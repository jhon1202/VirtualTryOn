{
  "nbformat": 4,
  "nbformat_minor": 0,
  "metadata": {
    "colab": {
      "provenance": [],
      "gpuType": "T4"
    },
    "kernelspec": {
      "name": "python3",
      "display_name": "Python 3"
    },
    "language_info": {
      "name": "python"
    },
    "accelerator": "GPU"
  },
  "cells": [
    {
      "cell_type": "markdown",
      "source": [
        "----Image_preprocessing----\n",
        "Image_resize(1024, 768),\n",
        "Cloth_segmentation,\n",
        "Openpose,"
      ],
      "metadata": {
        "id": "8WkTAUaLRFd8"
      }
    },
    {
      "cell_type": "code",
      "execution_count": 1,
      "metadata": {
        "id": "HqkMtAeUUKDX",
        "colab": {
          "base_uri": "https://localhost:8080/"
        },
        "outputId": "e66d5b18-a7f2-40b9-c171-07cd294b22c6"
      },
      "outputs": [
        {
          "output_type": "stream",
          "name": "stdout",
          "text": [
            "Mounted at /content/drive\n"
          ]
        }
      ],
      "source": [
        "from google.colab import drive\n",
        "drive.mount('/content/drive')"
      ]
    },
    {
      "cell_type": "code",
      "source": [
        "%cd /content/drive/MyDrive/"
      ],
      "metadata": {
        "colab": {
          "base_uri": "https://localhost:8080/"
        },
        "id": "tnE0K9EbLKqU",
        "outputId": "b1a26d5f-556e-4052-aed3-16db75b09a89"
      },
      "execution_count": 2,
      "outputs": [
        {
          "output_type": "stream",
          "name": "stdout",
          "text": [
            "/content/drive/MyDrive\n"
          ]
        }
      ]
    },
    {
      "cell_type": "code",
      "source": [
        "!unzip DCI-VTON-Virtual-Try-On.zip"
      ],
      "metadata": {
        "id": "RQxDM9yNNPwk"
      },
      "execution_count": null,
      "outputs": []
    },
    {
      "cell_type": "code",
      "source": [
        "%cd /content/drive/MyDrive/DCI-VTON-Virtual-Try-On"
      ],
      "metadata": {
        "colab": {
          "base_uri": "https://localhost:8080/"
        },
        "id": "LcjZcSA2QOUJ",
        "outputId": "1ccb5644-2e41-417d-fa7f-7febcb99546e"
      },
      "execution_count": 9,
      "outputs": [
        {
          "output_type": "stream",
          "name": "stdout",
          "text": [
            "/content/drive/MyDrive/DCI-VTON-Virtual-Try-On\n"
          ]
        }
      ]
    },
    {
      "cell_type": "code",
      "source": [
        "!unzip test_dataset.zip"
      ],
      "metadata": {
        "id": "_rvyp95EPC8D"
      },
      "execution_count": null,
      "outputs": []
    },
    {
      "cell_type": "markdown",
      "source": [
        "Densepose"
      ],
      "metadata": {
        "id": "ETMmk7xZP8IQ"
      }
    },
    {
      "cell_type": "code",
      "source": [
        "%cd /content/drive/MyDrive/DCI-VTON-Virtual-Try-On"
      ],
      "metadata": {
        "colab": {
          "base_uri": "https://localhost:8080/"
        },
        "id": "AwcMFmbXQCZJ",
        "outputId": "680f483d-f0cb-4be4-90e3-2c57af9656b3"
      },
      "execution_count": 6,
      "outputs": [
        {
          "output_type": "stream",
          "name": "stdout",
          "text": [
            "/content/drive/MyDrive/DCI-VTON-Virtual-Try-On\n"
          ]
        }
      ]
    },
    {
      "cell_type": "code",
      "source": [
        "!git clone https://github.com/facebookresearch/detectron2"
      ],
      "metadata": {
        "colab": {
          "base_uri": "https://localhost:8080/"
        },
        "id": "-fihgPS7PTxA",
        "outputId": "a9dc1102-e983-4078-cde3-490ff26c2755"
      },
      "execution_count": 7,
      "outputs": [
        {
          "output_type": "stream",
          "name": "stdout",
          "text": [
            "fatal: destination path 'detectron2' already exists and is not an empty directory.\n"
          ]
        }
      ]
    },
    {
      "cell_type": "code",
      "source": [
        "!python -m pip install -e detectron2"
      ],
      "metadata": {
        "id": "0pgkAEFuQHsa"
      },
      "execution_count": null,
      "outputs": []
    },
    {
      "cell_type": "code",
      "source": [
        "%cd /content/drive/MyDrive/DCI-VTON-Virtual-Try-On/detectron2/projects/DensePose\n",
        "!pip install av>=8.0.3 opencv-python-headless>=4.5.3.56 scipy>=1.5.4"
      ],
      "metadata": {
        "colab": {
          "base_uri": "https://localhost:8080/"
        },
        "id": "EWLJJOJnQ76i",
        "outputId": "46bf2471-ce93-4465-fff5-57de6fd144b0"
      },
      "execution_count": 13,
      "outputs": [
        {
          "output_type": "stream",
          "name": "stdout",
          "text": [
            "/content/drive/MyDrive/DCI-VTON-Virtual-Try-On/detectron2/projects/DensePose\n"
          ]
        }
      ]
    },
    {
      "cell_type": "code",
      "source": [
        "!python apply_net.py show configs/densepose_rcnn_R_50_FPN_s1x.yaml https://dl.fbaipublicfiles.com/densepose/densepose_rcnn_R_50_FPN_s1x/165712039/model_final_162be9.pkl /content/drive/MyDrive/DCI-VTON-Virtual-Try-On/test_dataset/test/image dp_segm -v --opts MODEL.DEVICE cpu"
      ],
      "metadata": {
        "id": "VKpjtgmNQ-8K"
      },
      "execution_count": null,
      "outputs": []
    },
    {
      "cell_type": "markdown",
      "source": [
        "Parsing"
      ],
      "metadata": {
        "id": "Kd6zjtNHRwj1"
      }
    },
    {
      "cell_type": "code",
      "source": [
        "!pip install ninja"
      ],
      "metadata": {
        "colab": {
          "base_uri": "https://localhost:8080/"
        },
        "id": "o2mRbZ65RvmZ",
        "outputId": "9454c622-9859-4b5c-91de-a998e9ecb727"
      },
      "execution_count": 16,
      "outputs": [
        {
          "output_type": "stream",
          "name": "stdout",
          "text": [
            "Collecting ninja\n",
            "  Downloading ninja-1.11.1.1-py2.py3-none-manylinux1_x86_64.manylinux_2_5_x86_64.whl (307 kB)\n",
            "\u001b[2K     \u001b[90m━━━━━━━━━━━━━━━━━━━━━━━━━━━━━━━━━━━━━━━━\u001b[0m \u001b[32m307.2/307.2 kB\u001b[0m \u001b[31m2.3 MB/s\u001b[0m eta \u001b[36m0:00:00\u001b[0m\n",
            "\u001b[?25hInstalling collected packages: ninja\n",
            "Successfully installed ninja-1.11.1.1\n"
          ]
        }
      ]
    },
    {
      "cell_type": "code",
      "source": [
        "%cd /content/drive/MyDrive/DCI-VTON-Virtual-Try-On/Self-Correction-Human-Parsing/checkpoints"
      ],
      "metadata": {
        "colab": {
          "base_uri": "https://localhost:8080/"
        },
        "id": "uONOFMkDSCXy",
        "outputId": "4c432c6c-aac7-4408-f083-e208a41f6d7f"
      },
      "execution_count": 17,
      "outputs": [
        {
          "output_type": "stream",
          "name": "stdout",
          "text": [
            "/content/drive/MyDrive/DCI-VTON-Virtual-Try-On/Self-Correction-Human-Parsing/checkpoints\n"
          ]
        }
      ]
    },
    {
      "cell_type": "code",
      "source": [
        "!gdown 1k4dllHpu0bdx38J7H28rVVLpU-kOHmnH"
      ],
      "metadata": {
        "colab": {
          "base_uri": "https://localhost:8080/"
        },
        "id": "qN3ARQYoSEgv",
        "outputId": "26c628ef-0dca-4056-a745-f0d4968dc160"
      },
      "execution_count": 18,
      "outputs": [
        {
          "output_type": "stream",
          "name": "stdout",
          "text": [
            "Downloading...\n",
            "From (original): https://drive.google.com/uc?id=1k4dllHpu0bdx38J7H28rVVLpU-kOHmnH\n",
            "From (redirected): https://drive.google.com/uc?id=1k4dllHpu0bdx38J7H28rVVLpU-kOHmnH&confirm=t&uuid=79f3d8b6-ba77-4c7e-8705-cb0c6fc225c0\n",
            "To: /content/drive/MyDrive/DCI-VTON-Virtual-Try-On/Self-Correction-Human-Parsing/checkpoints/exp-schp-201908261155-lip.pth\n",
            "100% 267M/267M [00:05<00:00, 51.2MB/s]\n"
          ]
        }
      ]
    },
    {
      "cell_type": "code",
      "source": [
        "%cd /content/drive/MyDrive/DCI-VTON-Virtual-Try-On/Self-Correction-Human-Parsing"
      ],
      "metadata": {
        "colab": {
          "base_uri": "https://localhost:8080/"
        },
        "id": "foOss2BvSGpq",
        "outputId": "2badc473-44d6-4e6c-f33e-aa29d4165b2b"
      },
      "execution_count": 19,
      "outputs": [
        {
          "output_type": "stream",
          "name": "stdout",
          "text": [
            "/content/drive/MyDrive/DCI-VTON-Virtual-Try-On/Self-Correction-Human-Parsing\n"
          ]
        }
      ]
    },
    {
      "cell_type": "code",
      "source": [
        "!python3 simple_extractor.py --dataset 'lip' --model-restore 'checkpoints/exp-schp-201908261155-lip.pth' --input-dir '/content/drive/MyDrive/DCI-VTON-Virtual-Try-On/test_dataset/test/image' --output-dir '/content/drive/MyDrive/DCI-VTON-Virtual-Try-On/test_dataset/test/image-parse-v3'"
      ],
      "metadata": {
        "colab": {
          "base_uri": "https://localhost:8080/"
        },
        "id": "oohg5tgBSIxa",
        "outputId": "5b756ecd-c9ce-4d62-aaff-5264d8f110fe"
      },
      "execution_count": 20,
      "outputs": [
        {
          "output_type": "stream",
          "name": "stdout",
          "text": [
            "Evaluating total class number 20 with ['Background', 'Hat', 'Hair', 'Glove', 'Sunglasses', 'Upper-clothes', 'Dress', 'Coat', 'Socks', 'Pants', 'Jumpsuits', 'Scarf', 'Skirt', 'Face', 'Left-arm', 'Right-arm', 'Left-leg', 'Right-leg', 'Left-shoe', 'Right-shoe']\n",
            "100% 38/38 [00:19<00:00,  1.91it/s]\n"
          ]
        }
      ]
    },
    {
      "cell_type": "markdown",
      "source": [
        "Agnostic-Parsing"
      ],
      "metadata": {
        "id": "mIRNhLfKSKnd"
      }
    },
    {
      "cell_type": "code",
      "source": [
        "import json\n",
        "from os import path as osp\n",
        "import os\n",
        "import numpy as np\n",
        "from PIL import Image, ImageDraw\n",
        "from tqdm import tqdm\n",
        "\n",
        "def get_im_parse_agnostic(im_parse, pose_data, w=768, h=1024):\n",
        "    label_array = np.array(im_parse)\n",
        "    parse_upper = ((label_array == 5).astype(np.float32) +\n",
        "                    (label_array == 6).astype(np.float32) +\n",
        "                    (label_array == 7).astype(np.float32))\n",
        "    parse_neck = (label_array == 10).astype(np.float32)\n",
        "\n",
        "    r = 10\n",
        "    agnostic = im_parse.copy()\n",
        "\n",
        "    # mask arms\n",
        "    for parse_id, pose_ids in [(14, [2, 5, 6, 7]), (15, [5, 2, 3, 4])]:\n",
        "        mask_arm = Image.new('L', (w, h), 'black')\n",
        "        mask_arm_draw = ImageDraw.Draw(mask_arm)\n",
        "        i_prev = pose_ids[0]\n",
        "        for i in pose_ids[1:]:\n",
        "            if (pose_data[i_prev, 0] == 0.0 and pose_data[i_prev, 1] == 0.0) or (pose_data[i, 0] == 0.0 and pose_data[i, 1] == 0.0):\n",
        "                continue\n",
        "            mask_arm_draw.line([tuple(pose_data[j]) for j in [i_prev, i]], 'white', width=r*10)\n",
        "            pointx, pointy = pose_data[i]\n",
        "            radius = r*4 if i == pose_ids[-1] else r*15\n",
        "            mask_arm_draw.ellipse((pointx-radius, pointy-radius, pointx+radius, pointy+radius), 'white', 'white')\n",
        "            i_prev = i\n",
        "        parse_arm = (np.array(mask_arm) / 255) * (label_array == parse_id).astype(np.float32)\n",
        "        agnostic.paste(0, None, Image.fromarray(np.uint8(parse_arm * 255), 'L'))\n",
        "\n",
        "    # mask torso & neck\n",
        "    agnostic.paste(0, None, Image.fromarray(np.uint8(parse_upper * 255), 'L'))\n",
        "    agnostic.paste(0, None, Image.fromarray(np.uint8(parse_neck * 255), 'L'))\n",
        "\n",
        "    return agnostic\n",
        "\n",
        "\n",
        "if __name__ ==\"__main__\":\n",
        "    data_path = '/content/drive/MyDrive/DCI-VTON-Virtual-Try-On/test_dataset/test'\n",
        "    output_path = '/content/drive/MyDrive/DCI-VTON-Virtual-Try-On/test_dataset/test/image-parse-agnostic-v3.2'\n",
        "\n",
        "    os.makedirs(output_path, exist_ok=True)\n",
        "\n",
        "    for im_name in tqdm(os.listdir(osp.join(data_path, 'image'))):\n",
        "\n",
        "        # load pose image\n",
        "        pose_name = im_name.replace('.jpg', '_keypoints.json')\n",
        "\n",
        "        try:\n",
        "            with open(osp.join(data_path, 'openpose_json', pose_name), 'r') as f:\n",
        "                pose_label = json.load(f)\n",
        "                pose_data = pose_label['people'][0]['pose_keypoints_2d']\n",
        "                pose_data = np.array(pose_data)\n",
        "                pose_data = pose_data.reshape((-1, 3))[:, :2]\n",
        "        except IndexError:\n",
        "            print(pose_name)\n",
        "            continue\n",
        "\n",
        "        # load parsing image\n",
        "        parse_name = im_name.replace('.jpg', '.png')\n",
        "        im_parse = Image.open(osp.join(data_path, 'image-parse-v3', parse_name))\n",
        "\n",
        "        agnostic = get_im_parse_agnostic(im_parse, pose_data)\n",
        "\n",
        "        agnostic.save(osp.join(output_path, parse_name))"
      ],
      "metadata": {
        "colab": {
          "base_uri": "https://localhost:8080/"
        },
        "id": "e2Fenny-SNq5",
        "outputId": "6f19bb55-4d78-480d-f3ba-5aa346d59a70"
      },
      "execution_count": 21,
      "outputs": [
        {
          "output_type": "stream",
          "name": "stderr",
          "text": [
            "100%|██████████| 38/38 [00:03<00:00, 11.39it/s]\n"
          ]
        }
      ]
    },
    {
      "cell_type": "markdown",
      "source": [
        "Warping"
      ],
      "metadata": {
        "id": "F_675jypSSaq"
      }
    },
    {
      "cell_type": "code",
      "source": [
        "%cd /content/drive/MyDrive/DCI-VTON-Virtual-Try-On/warp/test/checkpoints"
      ],
      "metadata": {
        "colab": {
          "base_uri": "https://localhost:8080/"
        },
        "id": "2Ik6o0SISRKm",
        "outputId": "e6a33fef-b72e-4b12-95a0-adf93086bf09"
      },
      "execution_count": 22,
      "outputs": [
        {
          "output_type": "stream",
          "name": "stdout",
          "text": [
            "/content/drive/MyDrive/DCI-VTON-Virtual-Try-On/warp/test/checkpoints\n"
          ]
        }
      ]
    },
    {
      "cell_type": "code",
      "source": [
        "!gdown 1EY52bIpxMdf7YBRhkqaIx7aYx1F87E8n"
      ],
      "metadata": {
        "colab": {
          "base_uri": "https://localhost:8080/"
        },
        "id": "Au1PJh_dSVf6",
        "outputId": "be9c272a-f807-41c0-903c-52fa92fe93c9"
      },
      "execution_count": 23,
      "outputs": [
        {
          "output_type": "stream",
          "name": "stdout",
          "text": [
            "Downloading...\n",
            "From (original): https://drive.google.com/uc?id=1EY52bIpxMdf7YBRhkqaIx7aYx1F87E8n\n",
            "From (redirected): https://drive.google.com/uc?id=1EY52bIpxMdf7YBRhkqaIx7aYx1F87E8n&confirm=t&uuid=fffa64ca-2cf4-48a0-bb04-294d6b1b31c5\n",
            "To: /content/drive/MyDrive/DCI-VTON-Virtual-Try-On/warp/test/checkpoints/warp_viton.pth\n",
            "100% 117M/117M [00:04<00:00, 23.5MB/s]\n"
          ]
        }
      ]
    },
    {
      "cell_type": "code",
      "source": [
        "%cd /content/drive/MyDrive/DCI-VTON-Virtual-Try-On/warp/test/"
      ],
      "metadata": {
        "colab": {
          "base_uri": "https://localhost:8080/"
        },
        "id": "6Tq-rrkMSdaH",
        "outputId": "5cf805b6-7c02-4ae3-bad7-7b7f4f79d81a"
      },
      "execution_count": 27,
      "outputs": [
        {
          "output_type": "stream",
          "name": "stdout",
          "text": [
            "/content/drive/MyDrive/DCI-VTON-Virtual-Try-On/warp/test\n"
          ]
        }
      ]
    },
    {
      "cell_type": "code",
      "source": [
        "!python -u eval_PBAFN_viton.py --name=cloth-warp --resize_or_crop=none --batchSize=32 --gpu_ids=0 --warp_checkpoint=checkpoints/warp_viton.pth --label_nc=13 --dataroot=/content/drive/MyDrive/DCI-VTON-Virtual-Try-On/test_dataset --fineSize=512 --unpaired"
      ],
      "metadata": {
        "id": "XJZopbvsSfFK"
      },
      "execution_count": null,
      "outputs": []
    },
    {
      "cell_type": "markdown",
      "source": [
        "Inference"
      ],
      "metadata": {
        "id": "VRq8nxm3SlJD"
      }
    },
    {
      "cell_type": "code",
      "source": [
        "!pip install omegaconf einops pandas scipy scikit-image matplotlib clip pytorch-lightning==1.6.5 lightning-utilities==0.4.0 taming-transformers-rom1504 transformers kornia"
      ],
      "metadata": {
        "colab": {
          "base_uri": "https://localhost:8080/",
          "height": 1000
        },
        "id": "wuzQNNtISkmD",
        "outputId": "f51a206f-1cec-4bfd-fdb5-c88e04a6ec99"
      },
      "execution_count": 31,
      "outputs": [
        {
          "output_type": "stream",
          "name": "stdout",
          "text": [
            "Requirement already satisfied: omegaconf in /usr/local/lib/python3.10/dist-packages (2.3.0)\n",
            "Collecting einops\n",
            "  Downloading einops-0.7.0-py3-none-any.whl (44 kB)\n",
            "\u001b[2K     \u001b[90m━━━━━━━━━━━━━━━━━━━━━━━━━━━━━━━━━━━━━━━━\u001b[0m \u001b[32m44.6/44.6 kB\u001b[0m \u001b[31m971.4 kB/s\u001b[0m eta \u001b[36m0:00:00\u001b[0m\n",
            "\u001b[?25hRequirement already satisfied: pandas in /usr/local/lib/python3.10/dist-packages (1.5.3)\n",
            "Requirement already satisfied: scipy in /usr/local/lib/python3.10/dist-packages (1.11.4)\n",
            "Requirement already satisfied: scikit-image in /usr/local/lib/python3.10/dist-packages (0.19.3)\n",
            "Requirement already satisfied: matplotlib in /usr/local/lib/python3.10/dist-packages (3.7.1)\n",
            "Collecting clip\n",
            "  Downloading clip-0.2.0.tar.gz (5.5 kB)\n",
            "  Preparing metadata (setup.py) ... \u001b[?25l\u001b[?25hdone\n",
            "Collecting pytorch-lightning==1.6.5\n",
            "  Downloading pytorch_lightning-1.6.5-py3-none-any.whl (585 kB)\n",
            "\u001b[2K     \u001b[90m━━━━━━━━━━━━━━━━━━━━━━━━━━━━━━━━━━━━━━━━\u001b[0m \u001b[32m585.9/585.9 kB\u001b[0m \u001b[31m5.5 MB/s\u001b[0m eta \u001b[36m0:00:00\u001b[0m\n",
            "\u001b[?25hCollecting lightning-utilities==0.4.0\n",
            "  Downloading lightning_utilities-0.4.0-py3-none-any.whl (16 kB)\n",
            "Collecting taming-transformers-rom1504\n",
            "  Downloading taming_transformers_rom1504-0.0.6-py3-none-any.whl (51 kB)\n",
            "\u001b[2K     \u001b[90m━━━━━━━━━━━━━━━━━━━━━━━━━━━━━━━━━━━━━━━━\u001b[0m \u001b[32m51.5/51.5 kB\u001b[0m \u001b[31m6.7 MB/s\u001b[0m eta \u001b[36m0:00:00\u001b[0m\n",
            "\u001b[?25hRequirement already satisfied: transformers in /usr/local/lib/python3.10/dist-packages (4.38.1)\n",
            "Collecting kornia\n",
            "  Downloading kornia-0.7.1-py2.py3-none-any.whl (756 kB)\n",
            "\u001b[2K     \u001b[90m━━━━━━━━━━━━━━━━━━━━━━━━━━━━━━━━━━━━━━━━\u001b[0m \u001b[32m756.0/756.0 kB\u001b[0m \u001b[31m19.1 MB/s\u001b[0m eta \u001b[36m0:00:00\u001b[0m\n",
            "\u001b[?25hRequirement already satisfied: numpy>=1.17.2 in /usr/local/lib/python3.10/dist-packages (from pytorch-lightning==1.6.5) (1.25.2)\n",
            "Requirement already satisfied: torch>=1.8.* in /usr/local/lib/python3.10/dist-packages (from pytorch-lightning==1.6.5) (2.1.0+cu121)\n",
            "Requirement already satisfied: tqdm>=4.57.0 in /usr/local/lib/python3.10/dist-packages (from pytorch-lightning==1.6.5) (4.66.2)\n",
            "Requirement already satisfied: PyYAML>=5.4 in /usr/local/lib/python3.10/dist-packages (from pytorch-lightning==1.6.5) (6.0.1)\n",
            "Requirement already satisfied: fsspec[http]!=2021.06.0,>=2021.05.0 in /usr/local/lib/python3.10/dist-packages (from pytorch-lightning==1.6.5) (2023.6.0)\n",
            "Requirement already satisfied: tensorboard>=2.2.0 in /usr/local/lib/python3.10/dist-packages (from pytorch-lightning==1.6.5) (2.15.2)\n",
            "Collecting torchmetrics>=0.4.1 (from pytorch-lightning==1.6.5)\n",
            "  Downloading torchmetrics-1.3.1-py3-none-any.whl (840 kB)\n",
            "\u001b[2K     \u001b[90m━━━━━━━━━━━━━━━━━━━━━━━━━━━━━━━━━━━━━━━━\u001b[0m \u001b[32m840.4/840.4 kB\u001b[0m \u001b[31m54.9 MB/s\u001b[0m eta \u001b[36m0:00:00\u001b[0m\n",
            "\u001b[?25hCollecting pyDeprecate>=0.3.1 (from pytorch-lightning==1.6.5)\n",
            "  Downloading pyDeprecate-0.3.2-py3-none-any.whl (10 kB)\n",
            "Requirement already satisfied: packaging>=17.0 in /usr/local/lib/python3.10/dist-packages (from pytorch-lightning==1.6.5) (23.2)\n",
            "Requirement already satisfied: typing-extensions>=4.0.0 in /usr/local/lib/python3.10/dist-packages (from pytorch-lightning==1.6.5) (4.10.0)\n",
            "Collecting protobuf<=3.20.1 (from pytorch-lightning==1.6.5)\n",
            "  Downloading protobuf-3.20.1-cp310-cp310-manylinux_2_12_x86_64.manylinux2010_x86_64.whl (1.1 MB)\n",
            "\u001b[2K     \u001b[90m━━━━━━━━━━━━━━━━━━━━━━━━━━━━━━━━━━━━━━━━\u001b[0m \u001b[32m1.1/1.1 MB\u001b[0m \u001b[31m42.4 MB/s\u001b[0m eta \u001b[36m0:00:00\u001b[0m\n",
            "\u001b[?25hRequirement already satisfied: antlr4-python3-runtime==4.9.* in /usr/local/lib/python3.10/dist-packages (from omegaconf) (4.9.3)\n",
            "Requirement already satisfied: python-dateutil>=2.8.1 in /usr/local/lib/python3.10/dist-packages (from pandas) (2.8.2)\n",
            "Requirement already satisfied: pytz>=2020.1 in /usr/local/lib/python3.10/dist-packages (from pandas) (2023.4)\n",
            "Requirement already satisfied: networkx>=2.2 in /usr/local/lib/python3.10/dist-packages (from scikit-image) (3.2.1)\n",
            "Requirement already satisfied: pillow!=7.1.0,!=7.1.1,!=8.3.0,>=6.1.0 in /usr/local/lib/python3.10/dist-packages (from scikit-image) (9.4.0)\n",
            "Requirement already satisfied: imageio>=2.4.1 in /usr/local/lib/python3.10/dist-packages (from scikit-image) (2.31.6)\n",
            "Requirement already satisfied: tifffile>=2019.7.26 in /usr/local/lib/python3.10/dist-packages (from scikit-image) (2024.2.12)\n",
            "Requirement already satisfied: PyWavelets>=1.1.1 in /usr/local/lib/python3.10/dist-packages (from scikit-image) (1.5.0)\n",
            "Requirement already satisfied: contourpy>=1.0.1 in /usr/local/lib/python3.10/dist-packages (from matplotlib) (1.2.0)\n",
            "Requirement already satisfied: cycler>=0.10 in /usr/local/lib/python3.10/dist-packages (from matplotlib) (0.12.1)\n",
            "Requirement already satisfied: fonttools>=4.22.0 in /usr/local/lib/python3.10/dist-packages (from matplotlib) (4.49.0)\n",
            "Requirement already satisfied: kiwisolver>=1.0.1 in /usr/local/lib/python3.10/dist-packages (from matplotlib) (1.4.5)\n",
            "Requirement already satisfied: pyparsing>=2.3.1 in /usr/local/lib/python3.10/dist-packages (from matplotlib) (3.1.1)\n",
            "Requirement already satisfied: torchvision in /usr/local/lib/python3.10/dist-packages (from taming-transformers-rom1504) (0.16.0+cu121)\n",
            "Requirement already satisfied: filelock in /usr/local/lib/python3.10/dist-packages (from transformers) (3.13.1)\n",
            "Requirement already satisfied: huggingface-hub<1.0,>=0.19.3 in /usr/local/lib/python3.10/dist-packages (from transformers) (0.20.3)\n",
            "Requirement already satisfied: regex!=2019.12.17 in /usr/local/lib/python3.10/dist-packages (from transformers) (2023.12.25)\n",
            "Requirement already satisfied: requests in /usr/local/lib/python3.10/dist-packages (from transformers) (2.31.0)\n",
            "Requirement already satisfied: tokenizers<0.19,>=0.14 in /usr/local/lib/python3.10/dist-packages (from transformers) (0.15.2)\n",
            "Requirement already satisfied: safetensors>=0.4.1 in /usr/local/lib/python3.10/dist-packages (from transformers) (0.4.2)\n",
            "Requirement already satisfied: aiohttp!=4.0.0a0,!=4.0.0a1 in /usr/local/lib/python3.10/dist-packages (from fsspec[http]!=2021.06.0,>=2021.05.0->pytorch-lightning==1.6.5) (3.9.3)\n",
            "Requirement already satisfied: six>=1.5 in /usr/local/lib/python3.10/dist-packages (from python-dateutil>=2.8.1->pandas) (1.16.0)\n",
            "Requirement already satisfied: absl-py>=0.4 in /usr/local/lib/python3.10/dist-packages (from tensorboard>=2.2.0->pytorch-lightning==1.6.5) (1.4.0)\n",
            "Requirement already satisfied: grpcio>=1.48.2 in /usr/local/lib/python3.10/dist-packages (from tensorboard>=2.2.0->pytorch-lightning==1.6.5) (1.62.0)\n",
            "Requirement already satisfied: google-auth<3,>=1.6.3 in /usr/local/lib/python3.10/dist-packages (from tensorboard>=2.2.0->pytorch-lightning==1.6.5) (2.27.0)\n",
            "Requirement already satisfied: google-auth-oauthlib<2,>=0.5 in /usr/local/lib/python3.10/dist-packages (from tensorboard>=2.2.0->pytorch-lightning==1.6.5) (1.2.0)\n",
            "Requirement already satisfied: markdown>=2.6.8 in /usr/local/lib/python3.10/dist-packages (from tensorboard>=2.2.0->pytorch-lightning==1.6.5) (3.5.2)\n",
            "Requirement already satisfied: setuptools>=41.0.0 in /usr/local/lib/python3.10/dist-packages (from tensorboard>=2.2.0->pytorch-lightning==1.6.5) (67.7.2)\n",
            "Requirement already satisfied: tensorboard-data-server<0.8.0,>=0.7.0 in /usr/local/lib/python3.10/dist-packages (from tensorboard>=2.2.0->pytorch-lightning==1.6.5) (0.7.2)\n",
            "Requirement already satisfied: werkzeug>=1.0.1 in /usr/local/lib/python3.10/dist-packages (from tensorboard>=2.2.0->pytorch-lightning==1.6.5) (3.0.1)\n",
            "Requirement already satisfied: charset-normalizer<4,>=2 in /usr/local/lib/python3.10/dist-packages (from requests->transformers) (3.3.2)\n",
            "Requirement already satisfied: idna<4,>=2.5 in /usr/local/lib/python3.10/dist-packages (from requests->transformers) (3.6)\n",
            "Requirement already satisfied: urllib3<3,>=1.21.1 in /usr/local/lib/python3.10/dist-packages (from requests->transformers) (2.0.7)\n",
            "Requirement already satisfied: certifi>=2017.4.17 in /usr/local/lib/python3.10/dist-packages (from requests->transformers) (2024.2.2)\n",
            "Requirement already satisfied: sympy in /usr/local/lib/python3.10/dist-packages (from torch>=1.8.*->pytorch-lightning==1.6.5) (1.12)\n",
            "Requirement already satisfied: jinja2 in /usr/local/lib/python3.10/dist-packages (from torch>=1.8.*->pytorch-lightning==1.6.5) (3.1.3)\n",
            "Requirement already satisfied: triton==2.1.0 in /usr/local/lib/python3.10/dist-packages (from torch>=1.8.*->pytorch-lightning==1.6.5) (2.1.0)\n",
            "INFO: pip is looking at multiple versions of torchmetrics to determine which version is compatible with other requirements. This could take a while.\n",
            "Collecting torchmetrics>=0.4.1 (from pytorch-lightning==1.6.5)\n",
            "  Downloading torchmetrics-1.3.0.post0-py3-none-any.whl (840 kB)\n",
            "\u001b[2K     \u001b[90m━━━━━━━━━━━━━━━━━━━━━━━━━━━━━━━━━━━━━━━━\u001b[0m \u001b[32m840.2/840.2 kB\u001b[0m \u001b[31m44.5 MB/s\u001b[0m eta \u001b[36m0:00:00\u001b[0m\n",
            "\u001b[?25h  Downloading torchmetrics-1.2.1-py3-none-any.whl (806 kB)\n",
            "\u001b[2K     \u001b[90m━━━━━━━━━━━━━━━━━━━━━━━━━━━━━━━━━━━━━━━━\u001b[0m \u001b[32m806.1/806.1 kB\u001b[0m \u001b[31m40.5 MB/s\u001b[0m eta \u001b[36m0:00:00\u001b[0m\n",
            "\u001b[?25h  Downloading torchmetrics-1.2.0-py3-none-any.whl (805 kB)\n",
            "\u001b[2K     \u001b[90m━━━━━━━━━━━━━━━━━━━━━━━━━━━━━━━━━━━━━━━━\u001b[0m \u001b[32m805.2/805.2 kB\u001b[0m \u001b[31m48.0 MB/s\u001b[0m eta \u001b[36m0:00:00\u001b[0m\n",
            "\u001b[?25h  Downloading torchmetrics-1.1.2-py3-none-any.whl (764 kB)\n",
            "\u001b[2K     \u001b[90m━━━━━━━━━━━━━━━━━━━━━━━━━━━━━━━━━━━━━━━━\u001b[0m \u001b[32m764.8/764.8 kB\u001b[0m \u001b[31m29.1 MB/s\u001b[0m eta \u001b[36m0:00:00\u001b[0m\n",
            "\u001b[?25h  Downloading torchmetrics-1.1.1-py3-none-any.whl (763 kB)\n",
            "\u001b[2K     \u001b[90m━━━━━━━━━━━━━━━━━━━━━━━━━━━━━━━━━━━━━━━━\u001b[0m \u001b[32m763.4/763.4 kB\u001b[0m \u001b[31m43.1 MB/s\u001b[0m eta \u001b[36m0:00:00\u001b[0m\n",
            "\u001b[?25h  Downloading torchmetrics-1.1.0-py3-none-any.whl (761 kB)\n",
            "\u001b[2K     \u001b[90m━━━━━━━━━━━━━━━━━━━━━━━━━━━━━━━━━━━━━━━━\u001b[0m \u001b[32m761.3/761.3 kB\u001b[0m \u001b[31m46.8 MB/s\u001b[0m eta \u001b[36m0:00:00\u001b[0m\n",
            "\u001b[?25h  Downloading torchmetrics-1.0.3-py3-none-any.whl (731 kB)\n",
            "\u001b[2K     \u001b[90m━━━━━━━━━━━━━━━━━━━━━━━━━━━━━━━━━━━━━━━━\u001b[0m \u001b[32m731.6/731.6 kB\u001b[0m \u001b[31m46.1 MB/s\u001b[0m eta \u001b[36m0:00:00\u001b[0m\n",
            "\u001b[?25hINFO: pip is looking at multiple versions of torchmetrics to determine which version is compatible with other requirements. This could take a while.\n",
            "  Downloading torchmetrics-1.0.2-py3-none-any.whl (731 kB)\n",
            "\u001b[2K     \u001b[90m━━━━━━━━━━━━━━━━━━━━━━━━━━━━━━━━━━━━━━━━\u001b[0m \u001b[32m731.1/731.1 kB\u001b[0m \u001b[31m39.5 MB/s\u001b[0m eta \u001b[36m0:00:00\u001b[0m\n",
            "\u001b[?25h  Downloading torchmetrics-1.0.1-py3-none-any.whl (729 kB)\n",
            "\u001b[2K     \u001b[90m━━━━━━━━━━━━━━━━━━━━━━━━━━━━━━━━━━━━━━━━\u001b[0m \u001b[32m729.2/729.2 kB\u001b[0m \u001b[31m43.5 MB/s\u001b[0m eta \u001b[36m0:00:00\u001b[0m\n",
            "\u001b[?25h  Downloading torchmetrics-1.0.0-py3-none-any.whl (728 kB)\n",
            "\u001b[2K     \u001b[90m━━━━━━━━━━━━━━━━━━━━━━━━━━━━━━━━━━━━━━━━\u001b[0m \u001b[32m728.8/728.8 kB\u001b[0m \u001b[31m39.3 MB/s\u001b[0m eta \u001b[36m0:00:00\u001b[0m\n",
            "\u001b[?25h  Downloading torchmetrics-0.11.4-py3-none-any.whl (519 kB)\n",
            "\u001b[2K     \u001b[90m━━━━━━━━━━━━━━━━━━━━━━━━━━━━━━━━━━━━━━━━\u001b[0m \u001b[32m519.2/519.2 kB\u001b[0m \u001b[31m42.7 MB/s\u001b[0m eta \u001b[36m0:00:00\u001b[0m\n",
            "\u001b[?25hRequirement already satisfied: aiosignal>=1.1.2 in /usr/local/lib/python3.10/dist-packages (from aiohttp!=4.0.0a0,!=4.0.0a1->fsspec[http]!=2021.06.0,>=2021.05.0->pytorch-lightning==1.6.5) (1.3.1)\n",
            "Requirement already satisfied: attrs>=17.3.0 in /usr/local/lib/python3.10/dist-packages (from aiohttp!=4.0.0a0,!=4.0.0a1->fsspec[http]!=2021.06.0,>=2021.05.0->pytorch-lightning==1.6.5) (23.2.0)\n",
            "Requirement already satisfied: frozenlist>=1.1.1 in /usr/local/lib/python3.10/dist-packages (from aiohttp!=4.0.0a0,!=4.0.0a1->fsspec[http]!=2021.06.0,>=2021.05.0->pytorch-lightning==1.6.5) (1.4.1)\n",
            "Requirement already satisfied: multidict<7.0,>=4.5 in /usr/local/lib/python3.10/dist-packages (from aiohttp!=4.0.0a0,!=4.0.0a1->fsspec[http]!=2021.06.0,>=2021.05.0->pytorch-lightning==1.6.5) (6.0.5)\n",
            "Requirement already satisfied: yarl<2.0,>=1.0 in /usr/local/lib/python3.10/dist-packages (from aiohttp!=4.0.0a0,!=4.0.0a1->fsspec[http]!=2021.06.0,>=2021.05.0->pytorch-lightning==1.6.5) (1.9.4)\n",
            "Requirement already satisfied: async-timeout<5.0,>=4.0 in /usr/local/lib/python3.10/dist-packages (from aiohttp!=4.0.0a0,!=4.0.0a1->fsspec[http]!=2021.06.0,>=2021.05.0->pytorch-lightning==1.6.5) (4.0.3)\n",
            "Requirement already satisfied: cachetools<6.0,>=2.0.0 in /usr/local/lib/python3.10/dist-packages (from google-auth<3,>=1.6.3->tensorboard>=2.2.0->pytorch-lightning==1.6.5) (5.3.3)\n",
            "Requirement already satisfied: pyasn1-modules>=0.2.1 in /usr/local/lib/python3.10/dist-packages (from google-auth<3,>=1.6.3->tensorboard>=2.2.0->pytorch-lightning==1.6.5) (0.3.0)\n",
            "Requirement already satisfied: rsa<5,>=3.1.4 in /usr/local/lib/python3.10/dist-packages (from google-auth<3,>=1.6.3->tensorboard>=2.2.0->pytorch-lightning==1.6.5) (4.9)\n",
            "Requirement already satisfied: requests-oauthlib>=0.7.0 in /usr/local/lib/python3.10/dist-packages (from google-auth-oauthlib<2,>=0.5->tensorboard>=2.2.0->pytorch-lightning==1.6.5) (1.3.1)\n",
            "Requirement already satisfied: MarkupSafe>=2.1.1 in /usr/local/lib/python3.10/dist-packages (from werkzeug>=1.0.1->tensorboard>=2.2.0->pytorch-lightning==1.6.5) (2.1.5)\n",
            "Requirement already satisfied: mpmath>=0.19 in /usr/local/lib/python3.10/dist-packages (from sympy->torch>=1.8.*->pytorch-lightning==1.6.5) (1.3.0)\n",
            "Requirement already satisfied: pyasn1<0.6.0,>=0.4.6 in /usr/local/lib/python3.10/dist-packages (from pyasn1-modules>=0.2.1->google-auth<3,>=1.6.3->tensorboard>=2.2.0->pytorch-lightning==1.6.5) (0.5.1)\n",
            "Requirement already satisfied: oauthlib>=3.0.0 in /usr/local/lib/python3.10/dist-packages (from requests-oauthlib>=0.7.0->google-auth-oauthlib<2,>=0.5->tensorboard>=2.2.0->pytorch-lightning==1.6.5) (3.2.2)\n",
            "\u001b[33mWARNING: The candidate selected for download or install is a yanked version: 'lightning-utilities' candidate (version 0.4.0 at https://files.pythonhosted.org/packages/67/17/bed12398a0417be28970bb3f8252a36ae0b2bc0d580b0dcddf6ad5d89a62/lightning_utilities-0.4.0-py3-none-any.whl (from https://pypi.org/simple/lightning-utilities/) (requires-python:>=3.7))\n",
            "Reason for being yanked: <none given>\u001b[0m\u001b[33m\n",
            "\u001b[0mBuilding wheels for collected packages: clip\n",
            "  Building wheel for clip (setup.py) ... \u001b[?25l\u001b[?25hdone\n",
            "  Created wheel for clip: filename=clip-0.2.0-py3-none-any.whl size=6989 sha256=e14a34eb5cdaa596f850917e8c85a4c355e108b86f1a7cf513ae0dcb288d3f31\n",
            "  Stored in directory: /root/.cache/pip/wheels/7f/5c/e6/2c0fdb453a3569188864b17e9676bea8b3b7e160c037117869\n",
            "Successfully built clip\n",
            "Installing collected packages: clip, pyDeprecate, protobuf, lightning-utilities, einops, torchmetrics, kornia, pytorch-lightning, taming-transformers-rom1504\n",
            "  Attempting uninstall: protobuf\n",
            "    Found existing installation: protobuf 3.20.3\n",
            "    Uninstalling protobuf-3.20.3:\n",
            "      Successfully uninstalled protobuf-3.20.3\n",
            "\u001b[31mERROR: pip's dependency resolver does not currently take into account all the packages that are installed. This behaviour is the source of the following dependency conflicts.\n",
            "google-ai-generativelanguage 0.4.0 requires protobuf!=3.20.0,!=3.20.1,!=4.21.0,!=4.21.1,!=4.21.2,!=4.21.3,!=4.21.4,!=4.21.5,<5.0.0dev,>=3.19.5, but you have protobuf 3.20.1 which is incompatible.\n",
            "google-api-core 2.11.1 requires protobuf!=3.20.0,!=3.20.1,!=4.21.0,!=4.21.1,!=4.21.2,!=4.21.3,!=4.21.4,!=4.21.5,<5.0.0.dev0,>=3.19.5, but you have protobuf 3.20.1 which is incompatible.\n",
            "google-cloud-aiplatform 1.42.1 requires protobuf!=3.20.0,!=3.20.1,!=4.21.0,!=4.21.1,!=4.21.2,!=4.21.3,!=4.21.4,!=4.21.5,<5.0.0dev,>=3.19.5, but you have protobuf 3.20.1 which is incompatible.\n",
            "google-cloud-bigquery 3.12.0 requires protobuf!=3.20.0,!=3.20.1,!=4.21.0,!=4.21.1,!=4.21.2,!=4.21.3,!=4.21.4,!=4.21.5,<5.0.0dev,>=3.19.5, but you have protobuf 3.20.1 which is incompatible.\n",
            "google-cloud-bigquery-connection 1.12.1 requires protobuf!=3.20.0,!=3.20.1,!=4.21.0,!=4.21.1,!=4.21.2,!=4.21.3,!=4.21.4,!=4.21.5,<5.0.0dev,>=3.19.5, but you have protobuf 3.20.1 which is incompatible.\n",
            "google-cloud-bigquery-storage 2.24.0 requires protobuf!=3.20.0,!=3.20.1,!=4.21.0,!=4.21.1,!=4.21.2,!=4.21.3,!=4.21.4,!=4.21.5,<5.0.0dev,>=3.19.5, but you have protobuf 3.20.1 which is incompatible.\n",
            "google-cloud-datastore 2.15.2 requires protobuf!=3.20.0,!=3.20.1,!=4.21.0,!=4.21.1,!=4.21.2,!=4.21.3,!=4.21.4,!=4.21.5,<5.0.0dev,>=3.19.5, but you have protobuf 3.20.1 which is incompatible.\n",
            "google-cloud-firestore 2.11.1 requires protobuf!=3.20.0,!=3.20.1,!=4.21.0,!=4.21.1,!=4.21.2,!=4.21.3,!=4.21.4,!=4.21.5,<5.0.0dev,>=3.19.5, but you have protobuf 3.20.1 which is incompatible.\n",
            "google-cloud-functions 1.13.3 requires protobuf!=3.20.0,!=3.20.1,!=4.21.0,!=4.21.1,!=4.21.2,!=4.21.3,!=4.21.4,!=4.21.5,<5.0.0dev,>=3.19.5, but you have protobuf 3.20.1 which is incompatible.\n",
            "google-cloud-iam 2.14.2 requires protobuf!=3.20.0,!=3.20.1,!=4.21.0,!=4.21.1,!=4.21.2,!=4.21.3,!=4.21.4,!=4.21.5,<5.0.0dev,>=3.19.5, but you have protobuf 3.20.1 which is incompatible.\n",
            "google-cloud-language 2.13.2 requires protobuf!=3.20.0,!=3.20.1,!=4.21.0,!=4.21.1,!=4.21.2,!=4.21.3,!=4.21.4,!=4.21.5,<5.0.0dev,>=3.19.5, but you have protobuf 3.20.1 which is incompatible.\n",
            "google-cloud-resource-manager 1.12.2 requires protobuf!=3.20.0,!=3.20.1,!=4.21.0,!=4.21.1,!=4.21.2,!=4.21.3,!=4.21.4,!=4.21.5,<5.0.0dev,>=3.19.5, but you have protobuf 3.20.1 which is incompatible.\n",
            "google-cloud-translate 3.11.3 requires protobuf!=3.20.0,!=3.20.1,!=4.21.0,!=4.21.1,!=4.21.2,!=4.21.3,!=4.21.4,!=4.21.5,<5.0.0dev,>=3.19.5, but you have protobuf 3.20.1 which is incompatible.\n",
            "googleapis-common-protos 1.62.0 requires protobuf!=3.20.0,!=3.20.1,!=4.21.1,!=4.21.2,!=4.21.3,!=4.21.4,!=4.21.5,<5.0.0.dev0,>=3.19.5, but you have protobuf 3.20.1 which is incompatible.\n",
            "grpc-google-iam-v1 0.13.0 requires protobuf!=3.20.0,!=3.20.1,!=4.21.1,!=4.21.2,!=4.21.3,!=4.21.4,!=4.21.5,<5.0.0dev,>=3.19.5, but you have protobuf 3.20.1 which is incompatible.\n",
            "tensorflow 2.15.0 requires protobuf!=4.21.0,!=4.21.1,!=4.21.2,!=4.21.3,!=4.21.4,!=4.21.5,<5.0.0dev,>=3.20.3, but you have protobuf 3.20.1 which is incompatible.\n",
            "tensorflow-metadata 1.14.0 requires protobuf<4.21,>=3.20.3, but you have protobuf 3.20.1 which is incompatible.\u001b[0m\u001b[31m\n",
            "\u001b[0mSuccessfully installed clip-0.2.0 einops-0.7.0 kornia-0.7.1 lightning-utilities-0.4.0 protobuf-3.20.1 pyDeprecate-0.3.2 pytorch-lightning-1.6.5 taming-transformers-rom1504-0.0.6 torchmetrics-0.11.4\n"
          ]
        },
        {
          "output_type": "display_data",
          "data": {
            "application/vnd.colab-display-data+json": {
              "pip_warning": {
                "packages": [
                  "google"
                ]
              },
              "id": "1ff4191fdf62462caaa4b6203afaa418"
            }
          },
          "metadata": {}
        }
      ]
    },
    {
      "cell_type": "code",
      "source": [
        "%cd /content/drive/MyDrive/DCI-VTON-Virtual-Try-On/models/vgg"
      ],
      "metadata": {
        "colab": {
          "base_uri": "https://localhost:8080/"
        },
        "id": "7toh1dcsSwYS",
        "outputId": "c3287578-c7d8-40b8-f622-f53aee5bd165"
      },
      "execution_count": 32,
      "outputs": [
        {
          "output_type": "stream",
          "name": "stdout",
          "text": [
            "/content/drive/MyDrive/DCI-VTON-Virtual-Try-On/models/vgg\n"
          ]
        }
      ]
    },
    {
      "cell_type": "code",
      "source": [
        "!gdown 1rvow8jStPt8t2prDcSRlnf8yzXhrYeGo"
      ],
      "metadata": {
        "colab": {
          "base_uri": "https://localhost:8080/"
        },
        "id": "KlxaLflTS5zl",
        "outputId": "901c05f5-84bb-4274-ff23-19f857c49655"
      },
      "execution_count": 33,
      "outputs": [
        {
          "output_type": "stream",
          "name": "stdout",
          "text": [
            "Downloading...\n",
            "From (original): https://drive.google.com/uc?id=1rvow8jStPt8t2prDcSRlnf8yzXhrYeGo\n",
            "From (redirected): https://drive.google.com/uc?id=1rvow8jStPt8t2prDcSRlnf8yzXhrYeGo&confirm=t&uuid=3046ccee-8bab-405f-b523-b61cd38a168a\n",
            "To: /content/drive/MyDrive/DCI-VTON-Virtual-Try-On/models/vgg/vgg19_conv.pth\n",
            "100% 160M/160M [00:02<00:00, 59.0MB/s]\n"
          ]
        }
      ]
    },
    {
      "cell_type": "code",
      "source": [
        "%cd /content/drive/MyDrive/DCI-VTON-Virtual-Try-On/models/"
      ],
      "metadata": {
        "colab": {
          "base_uri": "https://localhost:8080/"
        },
        "id": "4Wz1bdO7S7Bq",
        "outputId": "7209ec9c-f587-4bd6-9e01-cc64835bff42"
      },
      "execution_count": 34,
      "outputs": [
        {
          "output_type": "stream",
          "name": "stdout",
          "text": [
            "/content/drive/MyDrive/DCI-VTON-Virtual-Try-On/models\n"
          ]
        }
      ]
    },
    {
      "cell_type": "code",
      "source": [
        "!gdown 177zXMarfVU6K_F-vtuC5fawNKThOu3ai"
      ],
      "metadata": {
        "colab": {
          "base_uri": "https://localhost:8080/"
        },
        "id": "-hCZE4g0S7dc",
        "outputId": "396b0816-c6be-4cad-9c76-65af28a9a275"
      },
      "execution_count": 35,
      "outputs": [
        {
          "output_type": "stream",
          "name": "stdout",
          "text": [
            "Downloading...\n",
            "From (original): https://drive.google.com/uc?id=177zXMarfVU6K_F-vtuC5fawNKThOu3ai\n",
            "From (redirected): https://drive.google.com/uc?id=177zXMarfVU6K_F-vtuC5fawNKThOu3ai&confirm=t&uuid=890cebac-22d4-4d89-a215-3450742ac614\n",
            "To: /content/drive/MyDrive/DCI-VTON-Virtual-Try-On/models/viton512_v2.ckpt\n",
            "100% 5.32G/5.32G [01:06<00:00, 79.7MB/s]\n"
          ]
        }
      ]
    },
    {
      "cell_type": "code",
      "source": [
        "%cd /content/drive/MyDrive/DCI-VTON-Virtual-Try-On/"
      ],
      "metadata": {
        "colab": {
          "base_uri": "https://localhost:8080/"
        },
        "id": "xLIYB8kTS9u3",
        "outputId": "adf5867c-fb57-4562-f3f6-41b1e39be468"
      },
      "execution_count": 36,
      "outputs": [
        {
          "output_type": "stream",
          "name": "stdout",
          "text": [
            "/content/drive/MyDrive/DCI-VTON-Virtual-Try-On\n"
          ]
        }
      ]
    },
    {
      "cell_type": "code",
      "source": [
        "!python test.py --plms --gpu_id 0 --ddim_steps 100 --outdir results/viton \\\n",
        "--config configs/viton512_v2.yaml \\\n",
        "--dataroot test_dataset \\\n",
        "--ckpt models/viton512_v2.ckpt \\\n",
        "--n_samples 4 \\\n",
        "--seed 23 \\\n",
        "--scale 1 \\\n",
        "--H 512 \\\n",
        "--W 512"
      ],
      "metadata": {
        "colab": {
          "base_uri": "https://localhost:8080/"
        },
        "id": "Mj4F4A4WS-V7",
        "outputId": "d74f6ca5-03e4-48c8-9be0-6a93408f4d21"
      },
      "execution_count": 38,
      "outputs": [
        {
          "output_type": "stream",
          "name": "stdout",
          "text": [
            "2024-03-01 05:02:54.473517: E external/local_xla/xla/stream_executor/cuda/cuda_dnn.cc:9261] Unable to register cuDNN factory: Attempting to register factory for plugin cuDNN when one has already been registered\n",
            "2024-03-01 05:02:54.473579: E external/local_xla/xla/stream_executor/cuda/cuda_fft.cc:607] Unable to register cuFFT factory: Attempting to register factory for plugin cuFFT when one has already been registered\n",
            "2024-03-01 05:02:54.481741: E external/local_xla/xla/stream_executor/cuda/cuda_blas.cc:1515] Unable to register cuBLAS factory: Attempting to register factory for plugin cuBLAS when one has already been registered\n",
            "2024-03-01 05:02:56.778503: W tensorflow/compiler/tf2tensorrt/utils/py_utils.cc:38] TF-TRT Warning: Could not find TensorRT\n",
            "Global seed set to 23\n",
            "Loading model from models/viton512_v2.ckpt\n",
            "Global Step: 9720\n",
            "LatentTryOnDiffusion: Running in eps-prediction mode\n",
            "DiffusionWrapper has 859.54 M params.\n",
            "making attention of type 'vanilla' with 512 in_channels\n",
            "Working with z of shape (1, 4, 64, 64) = 16384 dimensions.\n",
            "making attention of type 'vanilla' with 512 in_channels\n",
            "/usr/local/lib/python3.10/dist-packages/torch/utils/data/dataloader.py:557: UserWarning: This DataLoader will create 4 worker processes in total. Our suggested max number of worker in current system is 2, which is smaller than what this DataLoader is going to create. Please be aware that excessive worker creation might get DataLoader running slow or even freeze, lower the worker number to avoid potential slowness/freeze if necessary.\n",
            "  warnings.warn(_create_warning_msg(\n",
            "Test Dataset:   0% 0/10 [00:00<?, ?it/s]/usr/local/lib/python3.10/dist-packages/torchvision/transforms/functional.py:1603: UserWarning: The default value of the antialias parameter of all the resizing transforms (Resize(), RandomResizedCrop(), etc.) will change from None to True in v0.17, in order to be consistent across the PIL and Tensor backends. To suppress this warning, directly pass antialias=True (recommended, future default), antialias=None (current default, which means False for Tensors and True for PIL), or antialias=False (only works on Tensors - PIL will still use antialiasing). This also applies if you are using the inference transforms from the models weights: update the call to weights.transforms(antialias=True).\n",
            "  warnings.warn(\n",
            "/usr/local/lib/python3.10/dist-packages/torchvision/transforms/functional.py:1603: UserWarning: The default value of the antialias parameter of all the resizing transforms (Resize(), RandomResizedCrop(), etc.) will change from None to True in v0.17, in order to be consistent across the PIL and Tensor backends. To suppress this warning, directly pass antialias=True (recommended, future default), antialias=None (current default, which means False for Tensors and True for PIL), or antialias=False (only works on Tensors - PIL will still use antialiasing). This also applies if you are using the inference transforms from the models weights: update the call to weights.transforms(antialias=True).\n",
            "  warnings.warn(\n",
            "/usr/local/lib/python3.10/dist-packages/torchvision/transforms/functional.py:1603: UserWarning: The default value of the antialias parameter of all the resizing transforms (Resize(), RandomResizedCrop(), etc.) will change from None to True in v0.17, in order to be consistent across the PIL and Tensor backends. To suppress this warning, directly pass antialias=True (recommended, future default), antialias=None (current default, which means False for Tensors and True for PIL), or antialias=False (only works on Tensors - PIL will still use antialiasing). This also applies if you are using the inference transforms from the models weights: update the call to weights.transforms(antialias=True).\n",
            "  warnings.warn(\n",
            "/usr/local/lib/python3.10/dist-packages/torchvision/transforms/functional.py:1603: UserWarning: The default value of the antialias parameter of all the resizing transforms (Resize(), RandomResizedCrop(), etc.) will change from None to True in v0.17, in order to be consistent across the PIL and Tensor backends. To suppress this warning, directly pass antialias=True (recommended, future default), antialias=None (current default, which means False for Tensors and True for PIL), or antialias=False (only works on Tensors - PIL will still use antialiasing). This also applies if you are using the inference transforms from the models weights: update the call to weights.transforms(antialias=True).\n",
            "  warnings.warn(\n",
            "/usr/local/lib/python3.10/dist-packages/torchvision/transforms/functional.py:1603: UserWarning: The default value of the antialias parameter of all the resizing transforms (Resize(), RandomResizedCrop(), etc.) will change from None to True in v0.17, in order to be consistent across the PIL and Tensor backends. To suppress this warning, directly pass antialias=True (recommended, future default), antialias=None (current default, which means False for Tensors and True for PIL), or antialias=False (only works on Tensors - PIL will still use antialiasing). This also applies if you are using the inference transforms from the models weights: update the call to weights.transforms(antialias=True).\n",
            "  warnings.warn(\n",
            "Data shape for PLMS sampling is (4, 4, 64, 64)\n",
            "Running PLMS Sampling with 100 timesteps\n",
            "\n",
            "PLMS Sampler:   0% 0/100 [00:00<?, ?it/s]\u001b[A\n",
            "PLMS Sampler:   1% 1/100 [00:01<02:17,  1.39s/it]\u001b[A\n",
            "PLMS Sampler:   2% 2/100 [00:01<01:23,  1.17it/s]\u001b[A\n",
            "PLMS Sampler:   3% 3/100 [00:02<01:05,  1.48it/s]\u001b[A\n",
            "PLMS Sampler:   4% 4/100 [00:02<00:56,  1.69it/s]\u001b[A\n",
            "PLMS Sampler:   5% 5/100 [00:03<00:51,  1.83it/s]\u001b[A\n",
            "PLMS Sampler:   6% 6/100 [00:03<00:48,  1.93it/s]\u001b[A\n",
            "PLMS Sampler:   7% 7/100 [00:04<00:46,  1.99it/s]\u001b[A\n",
            "PLMS Sampler:   8% 8/100 [00:04<00:45,  2.04it/s]\u001b[A\n",
            "PLMS Sampler:   9% 9/100 [00:05<00:43,  2.07it/s]\u001b[A\n",
            "PLMS Sampler:  10% 10/100 [00:05<00:42,  2.09it/s]\u001b[A\n",
            "PLMS Sampler:  11% 11/100 [00:06<00:42,  2.11it/s]\u001b[A\n",
            "PLMS Sampler:  12% 12/100 [00:06<00:41,  2.11it/s]\u001b[A\n",
            "PLMS Sampler:  13% 13/100 [00:06<00:41,  2.12it/s]\u001b[A\n",
            "PLMS Sampler:  14% 14/100 [00:07<00:40,  2.12it/s]\u001b[A\n",
            "PLMS Sampler:  15% 15/100 [00:07<00:40,  2.12it/s]\u001b[A\n",
            "PLMS Sampler:  16% 16/100 [00:08<00:39,  2.12it/s]\u001b[A\n",
            "PLMS Sampler:  17% 17/100 [00:08<00:39,  2.12it/s]\u001b[A\n",
            "PLMS Sampler:  18% 18/100 [00:09<00:38,  2.12it/s]\u001b[A\n",
            "PLMS Sampler:  19% 19/100 [00:09<00:38,  2.12it/s]\u001b[A\n",
            "PLMS Sampler:  20% 20/100 [00:10<00:37,  2.12it/s]\u001b[A\n",
            "PLMS Sampler:  21% 21/100 [00:10<00:37,  2.12it/s]\u001b[A\n",
            "PLMS Sampler:  22% 22/100 [00:11<00:36,  2.12it/s]\u001b[A\n",
            "PLMS Sampler:  23% 23/100 [00:11<00:36,  2.12it/s]\u001b[A\n",
            "PLMS Sampler:  24% 24/100 [00:12<00:35,  2.12it/s]\u001b[A\n",
            "PLMS Sampler:  25% 25/100 [00:12<00:35,  2.12it/s]\u001b[A\n",
            "PLMS Sampler:  26% 26/100 [00:13<00:34,  2.12it/s]\u001b[A\n",
            "PLMS Sampler:  27% 27/100 [00:13<00:34,  2.11it/s]\u001b[A\n",
            "PLMS Sampler:  28% 28/100 [00:14<00:34,  2.11it/s]\u001b[A\n",
            "PLMS Sampler:  29% 29/100 [00:14<00:33,  2.11it/s]\u001b[A\n",
            "PLMS Sampler:  30% 30/100 [00:15<00:33,  2.11it/s]\u001b[A\n",
            "PLMS Sampler:  31% 31/100 [00:15<00:32,  2.11it/s]\u001b[A\n",
            "PLMS Sampler:  32% 32/100 [00:15<00:32,  2.11it/s]\u001b[A\n",
            "PLMS Sampler:  33% 33/100 [00:16<00:31,  2.10it/s]\u001b[A\n",
            "PLMS Sampler:  34% 34/100 [00:16<00:31,  2.10it/s]\u001b[A\n",
            "PLMS Sampler:  35% 35/100 [00:17<00:30,  2.10it/s]\u001b[A\n",
            "PLMS Sampler:  36% 36/100 [00:17<00:30,  2.10it/s]\u001b[A\n",
            "PLMS Sampler:  37% 37/100 [00:18<00:29,  2.10it/s]\u001b[A\n",
            "PLMS Sampler:  38% 38/100 [00:18<00:29,  2.09it/s]\u001b[A\n",
            "PLMS Sampler:  39% 39/100 [00:19<00:29,  2.10it/s]\u001b[A\n",
            "PLMS Sampler:  40% 40/100 [00:19<00:28,  2.09it/s]\u001b[A\n",
            "PLMS Sampler:  41% 41/100 [00:20<00:28,  2.09it/s]\u001b[A\n",
            "PLMS Sampler:  42% 42/100 [00:20<00:27,  2.09it/s]\u001b[A\n",
            "PLMS Sampler:  43% 43/100 [00:21<00:27,  2.09it/s]\u001b[A\n",
            "PLMS Sampler:  44% 44/100 [00:21<00:26,  2.09it/s]\u001b[A\n",
            "PLMS Sampler:  45% 45/100 [00:22<00:26,  2.09it/s]\u001b[A\n",
            "PLMS Sampler:  46% 46/100 [00:22<00:25,  2.09it/s]\u001b[A\n",
            "PLMS Sampler:  47% 47/100 [00:23<00:25,  2.08it/s]\u001b[A\n",
            "PLMS Sampler:  48% 48/100 [00:23<00:24,  2.09it/s]\u001b[A\n",
            "PLMS Sampler:  49% 49/100 [00:24<00:24,  2.09it/s]\u001b[A\n",
            "PLMS Sampler:  50% 50/100 [00:24<00:24,  2.08it/s]\u001b[A\n",
            "PLMS Sampler:  51% 51/100 [00:25<00:23,  2.08it/s]\u001b[A\n",
            "PLMS Sampler:  52% 52/100 [00:25<00:23,  2.09it/s]\u001b[A\n",
            "PLMS Sampler:  53% 53/100 [00:26<00:22,  2.08it/s]\u001b[A\n",
            "PLMS Sampler:  54% 54/100 [00:26<00:22,  2.08it/s]\u001b[A\n",
            "PLMS Sampler:  55% 55/100 [00:26<00:21,  2.08it/s]\u001b[A\n",
            "PLMS Sampler:  56% 56/100 [00:27<00:21,  2.08it/s]\u001b[A\n",
            "PLMS Sampler:  57% 57/100 [00:27<00:20,  2.08it/s]\u001b[A\n",
            "PLMS Sampler:  58% 58/100 [00:28<00:20,  2.07it/s]\u001b[A\n",
            "PLMS Sampler:  59% 59/100 [00:28<00:19,  2.07it/s]\u001b[A\n",
            "PLMS Sampler:  60% 60/100 [00:29<00:19,  2.07it/s]\u001b[A\n",
            "PLMS Sampler:  61% 61/100 [00:29<00:18,  2.06it/s]\u001b[A\n",
            "PLMS Sampler:  62% 62/100 [00:30<00:18,  2.06it/s]\u001b[A\n",
            "PLMS Sampler:  63% 63/100 [00:30<00:17,  2.06it/s]\u001b[A\n",
            "PLMS Sampler:  64% 64/100 [00:31<00:17,  2.06it/s]\u001b[A\n",
            "PLMS Sampler:  65% 65/100 [00:31<00:17,  2.06it/s]\u001b[A\n",
            "PLMS Sampler:  66% 66/100 [00:32<00:16,  2.06it/s]\u001b[A\n",
            "PLMS Sampler:  67% 67/100 [00:32<00:16,  2.06it/s]\u001b[A\n",
            "PLMS Sampler:  68% 68/100 [00:33<00:15,  2.05it/s]\u001b[A\n",
            "PLMS Sampler:  69% 69/100 [00:33<00:15,  2.06it/s]\u001b[A\n",
            "PLMS Sampler:  70% 70/100 [00:34<00:14,  2.06it/s]\u001b[A\n",
            "PLMS Sampler:  71% 71/100 [00:34<00:14,  2.06it/s]\u001b[A\n",
            "PLMS Sampler:  72% 72/100 [00:35<00:13,  2.05it/s]\u001b[A\n",
            "PLMS Sampler:  73% 73/100 [00:35<00:13,  2.05it/s]\u001b[A\n",
            "PLMS Sampler:  74% 74/100 [00:36<00:12,  2.06it/s]\u001b[A\n",
            "PLMS Sampler:  75% 75/100 [00:36<00:12,  2.05it/s]\u001b[A\n",
            "PLMS Sampler:  76% 76/100 [00:37<00:11,  2.05it/s]\u001b[A\n",
            "PLMS Sampler:  77% 77/100 [00:37<00:11,  2.05it/s]\u001b[A\n",
            "PLMS Sampler:  78% 78/100 [00:38<00:10,  2.05it/s]\u001b[A\n",
            "PLMS Sampler:  79% 79/100 [00:38<00:10,  2.05it/s]\u001b[A\n",
            "PLMS Sampler:  80% 80/100 [00:39<00:09,  2.05it/s]\u001b[A\n",
            "PLMS Sampler:  81% 81/100 [00:39<00:09,  2.05it/s]\u001b[A\n",
            "PLMS Sampler:  82% 82/100 [00:40<00:08,  2.05it/s]\u001b[A\n",
            "PLMS Sampler:  83% 83/100 [00:40<00:08,  2.05it/s]\u001b[A\n",
            "PLMS Sampler:  84% 84/100 [00:41<00:07,  2.04it/s]\u001b[A\n",
            "PLMS Sampler:  85% 85/100 [00:41<00:07,  2.04it/s]\u001b[A\n",
            "PLMS Sampler:  86% 86/100 [00:42<00:06,  2.04it/s]\u001b[A\n",
            "PLMS Sampler:  87% 87/100 [00:42<00:06,  2.04it/s]\u001b[A\n",
            "PLMS Sampler:  88% 88/100 [00:43<00:05,  2.04it/s]\u001b[A\n",
            "PLMS Sampler:  89% 89/100 [00:43<00:05,  2.04it/s]\u001b[A\n",
            "PLMS Sampler:  90% 90/100 [00:44<00:04,  2.03it/s]\u001b[A\n",
            "PLMS Sampler:  91% 91/100 [00:44<00:04,  2.03it/s]\u001b[A\n",
            "PLMS Sampler:  92% 92/100 [00:45<00:03,  2.03it/s]\u001b[A\n",
            "PLMS Sampler:  93% 93/100 [00:45<00:03,  2.02it/s]\u001b[A\n",
            "PLMS Sampler:  94% 94/100 [00:46<00:02,  2.02it/s]\u001b[A\n",
            "PLMS Sampler:  95% 95/100 [00:46<00:02,  2.01it/s]\u001b[A\n",
            "PLMS Sampler:  96% 96/100 [00:47<00:01,  2.02it/s]\u001b[A\n",
            "PLMS Sampler:  97% 97/100 [00:47<00:01,  2.01it/s]\u001b[A\n",
            "PLMS Sampler:  98% 98/100 [00:48<00:00,  2.00it/s]\u001b[A\n",
            "PLMS Sampler:  99% 99/100 [00:48<00:00,  2.01it/s]\u001b[A\n",
            "PLMS Sampler: 100% 100/100 [00:49<00:00,  2.04it/s]\n",
            "Test Dataset:  10% 1/10 [01:01<09:17, 61.89s/it]Data shape for PLMS sampling is (4, 4, 64, 64)\n",
            "Running PLMS Sampling with 100 timesteps\n",
            "\n",
            "PLMS Sampler:   0% 0/100 [00:00<?, ?it/s]\u001b[A\n",
            "PLMS Sampler:   1% 1/100 [00:01<01:39,  1.00s/it]\u001b[A\n",
            "PLMS Sampler:   2% 2/100 [00:01<01:09,  1.41it/s]\u001b[A\n",
            "PLMS Sampler:   3% 3/100 [00:02<00:59,  1.63it/s]\u001b[A\n",
            "PLMS Sampler:   4% 4/100 [00:02<00:54,  1.75it/s]\u001b[A\n",
            "PLMS Sampler:   5% 5/100 [00:03<00:51,  1.83it/s]\u001b[A\n",
            "PLMS Sampler:   6% 6/100 [00:03<00:50,  1.88it/s]\u001b[A\n",
            "PLMS Sampler:   7% 7/100 [00:04<00:48,  1.91it/s]\u001b[A\n",
            "PLMS Sampler:   8% 8/100 [00:04<00:47,  1.92it/s]\u001b[A\n",
            "PLMS Sampler:   9% 9/100 [00:05<00:46,  1.94it/s]\u001b[A\n",
            "PLMS Sampler:  10% 10/100 [00:05<00:46,  1.95it/s]\u001b[A\n",
            "PLMS Sampler:  11% 11/100 [00:06<00:45,  1.96it/s]\u001b[A\n",
            "PLMS Sampler:  12% 12/100 [00:06<00:44,  1.96it/s]\u001b[A\n",
            "PLMS Sampler:  13% 13/100 [00:07<00:44,  1.97it/s]\u001b[A\n",
            "PLMS Sampler:  14% 14/100 [00:07<00:43,  1.97it/s]\u001b[A\n",
            "PLMS Sampler:  15% 15/100 [00:08<00:43,  1.97it/s]\u001b[A\n",
            "PLMS Sampler:  16% 16/100 [00:08<00:42,  1.97it/s]\u001b[A\n",
            "PLMS Sampler:  17% 17/100 [00:09<00:42,  1.96it/s]\u001b[A\n",
            "PLMS Sampler:  18% 18/100 [00:09<00:41,  1.96it/s]\u001b[A\n",
            "PLMS Sampler:  19% 19/100 [00:10<00:41,  1.96it/s]\u001b[A\n",
            "PLMS Sampler:  20% 20/100 [00:10<00:41,  1.95it/s]\u001b[A\n",
            "PLMS Sampler:  21% 21/100 [00:11<00:40,  1.95it/s]\u001b[A\n",
            "PLMS Sampler:  22% 22/100 [00:11<00:40,  1.94it/s]\u001b[A\n",
            "PLMS Sampler:  23% 23/100 [00:12<00:39,  1.94it/s]\u001b[A\n",
            "PLMS Sampler:  24% 24/100 [00:12<00:39,  1.93it/s]\u001b[A\n",
            "PLMS Sampler:  25% 25/100 [00:13<00:38,  1.94it/s]\u001b[A\n",
            "PLMS Sampler:  26% 26/100 [00:13<00:38,  1.93it/s]\u001b[A\n",
            "PLMS Sampler:  27% 27/100 [00:14<00:37,  1.93it/s]\u001b[A\n",
            "PLMS Sampler:  28% 28/100 [00:14<00:37,  1.93it/s]\u001b[A\n",
            "PLMS Sampler:  29% 29/100 [00:15<00:36,  1.94it/s]\u001b[A\n",
            "PLMS Sampler:  30% 30/100 [00:15<00:36,  1.94it/s]\u001b[A\n",
            "PLMS Sampler:  31% 31/100 [00:16<00:35,  1.95it/s]\u001b[A\n",
            "PLMS Sampler:  32% 32/100 [00:16<00:35,  1.94it/s]\u001b[A\n",
            "PLMS Sampler:  33% 33/100 [00:17<00:34,  1.94it/s]\u001b[A\n",
            "PLMS Sampler:  34% 34/100 [00:17<00:34,  1.93it/s]\u001b[A\n",
            "PLMS Sampler:  35% 35/100 [00:18<00:33,  1.94it/s]\u001b[A\n",
            "PLMS Sampler:  36% 36/100 [00:18<00:33,  1.93it/s]\u001b[A\n",
            "PLMS Sampler:  37% 37/100 [00:19<00:32,  1.94it/s]\u001b[A\n",
            "PLMS Sampler:  38% 38/100 [00:19<00:32,  1.93it/s]\u001b[A\n",
            "PLMS Sampler:  39% 39/100 [00:20<00:31,  1.93it/s]\u001b[A\n",
            "PLMS Sampler:  40% 40/100 [00:21<00:31,  1.92it/s]\u001b[A\n",
            "PLMS Sampler:  41% 41/100 [00:21<00:30,  1.92it/s]\u001b[A\n",
            "PLMS Sampler:  42% 42/100 [00:22<00:30,  1.91it/s]\u001b[A\n",
            "PLMS Sampler:  43% 43/100 [00:22<00:29,  1.92it/s]\u001b[A\n",
            "PLMS Sampler:  44% 44/100 [00:23<00:29,  1.92it/s]\u001b[A\n",
            "PLMS Sampler:  45% 45/100 [00:23<00:28,  1.91it/s]\u001b[A\n",
            "PLMS Sampler:  46% 46/100 [00:24<00:28,  1.91it/s]\u001b[A\n",
            "PLMS Sampler:  47% 47/100 [00:24<00:27,  1.91it/s]\u001b[A\n",
            "PLMS Sampler:  48% 48/100 [00:25<00:27,  1.90it/s]\u001b[A\n",
            "PLMS Sampler:  49% 49/100 [00:25<00:26,  1.90it/s]\u001b[A\n",
            "PLMS Sampler:  50% 50/100 [00:26<00:26,  1.90it/s]\u001b[A\n",
            "PLMS Sampler:  51% 51/100 [00:26<00:25,  1.90it/s]\u001b[A\n",
            "PLMS Sampler:  52% 52/100 [00:27<00:25,  1.90it/s]\u001b[A\n",
            "PLMS Sampler:  53% 53/100 [00:27<00:24,  1.90it/s]\u001b[A\n",
            "PLMS Sampler:  54% 54/100 [00:28<00:24,  1.89it/s]\u001b[A\n",
            "PLMS Sampler:  55% 55/100 [00:28<00:23,  1.89it/s]\u001b[A\n",
            "PLMS Sampler:  56% 56/100 [00:29<00:23,  1.89it/s]\u001b[A\n",
            "PLMS Sampler:  57% 57/100 [00:29<00:22,  1.88it/s]\u001b[A\n",
            "PLMS Sampler:  58% 58/100 [00:30<00:22,  1.88it/s]\u001b[A\n",
            "PLMS Sampler:  59% 59/100 [00:31<00:21,  1.88it/s]\u001b[A\n",
            "PLMS Sampler:  60% 60/100 [00:31<00:21,  1.87it/s]\u001b[A\n",
            "PLMS Sampler:  61% 61/100 [00:32<00:20,  1.87it/s]\u001b[A\n",
            "PLMS Sampler:  62% 62/100 [00:32<00:20,  1.86it/s]\u001b[A\n",
            "PLMS Sampler:  63% 63/100 [00:33<00:19,  1.87it/s]\u001b[A\n",
            "PLMS Sampler:  64% 64/100 [00:33<00:19,  1.86it/s]\u001b[A\n",
            "PLMS Sampler:  65% 65/100 [00:34<00:18,  1.86it/s]\u001b[A\n",
            "PLMS Sampler:  66% 66/100 [00:34<00:18,  1.86it/s]\u001b[A\n",
            "PLMS Sampler:  67% 67/100 [00:35<00:17,  1.85it/s]\u001b[A\n",
            "PLMS Sampler:  68% 68/100 [00:35<00:17,  1.85it/s]\u001b[A\n",
            "PLMS Sampler:  69% 69/100 [00:36<00:16,  1.84it/s]\u001b[A\n",
            "PLMS Sampler:  70% 70/100 [00:36<00:16,  1.84it/s]\u001b[A\n",
            "PLMS Sampler:  71% 71/100 [00:37<00:15,  1.84it/s]\u001b[A\n",
            "PLMS Sampler:  72% 72/100 [00:38<00:15,  1.84it/s]\u001b[A\n",
            "PLMS Sampler:  73% 73/100 [00:38<00:14,  1.83it/s]\u001b[A\n",
            "PLMS Sampler:  74% 74/100 [00:39<00:14,  1.83it/s]\u001b[A\n",
            "PLMS Sampler:  75% 75/100 [00:39<00:13,  1.82it/s]\u001b[A\n",
            "PLMS Sampler:  76% 76/100 [00:40<00:13,  1.83it/s]\u001b[A\n",
            "PLMS Sampler:  77% 77/100 [00:40<00:12,  1.82it/s]\u001b[A\n",
            "PLMS Sampler:  78% 78/100 [00:41<00:12,  1.83it/s]\u001b[A\n",
            "PLMS Sampler:  79% 79/100 [00:41<00:11,  1.82it/s]\u001b[A\n",
            "PLMS Sampler:  80% 80/100 [00:42<00:10,  1.82it/s]\u001b[A\n",
            "PLMS Sampler:  81% 81/100 [00:43<00:10,  1.82it/s]\u001b[A\n",
            "PLMS Sampler:  82% 82/100 [00:43<00:09,  1.81it/s]\u001b[A\n",
            "PLMS Sampler:  83% 83/100 [00:44<00:09,  1.81it/s]\u001b[A\n",
            "PLMS Sampler:  84% 84/100 [00:44<00:08,  1.80it/s]\u001b[A\n",
            "PLMS Sampler:  85% 85/100 [00:45<00:08,  1.80it/s]\u001b[A\n",
            "PLMS Sampler:  86% 86/100 [00:45<00:07,  1.79it/s]\u001b[A\n",
            "PLMS Sampler:  87% 87/100 [00:46<00:07,  1.80it/s]\u001b[A\n",
            "PLMS Sampler:  88% 88/100 [00:46<00:06,  1.79it/s]\u001b[A\n",
            "PLMS Sampler:  89% 89/100 [00:47<00:06,  1.78it/s]\u001b[A\n",
            "PLMS Sampler:  90% 90/100 [00:48<00:05,  1.78it/s]\u001b[A\n",
            "PLMS Sampler:  91% 91/100 [00:48<00:05,  1.78it/s]\u001b[A\n",
            "PLMS Sampler:  92% 92/100 [00:49<00:04,  1.78it/s]\u001b[A\n",
            "PLMS Sampler:  93% 93/100 [00:49<00:03,  1.78it/s]\u001b[A\n",
            "PLMS Sampler:  94% 94/100 [00:50<00:03,  1.78it/s]\u001b[A\n",
            "PLMS Sampler:  95% 95/100 [00:50<00:02,  1.77it/s]\u001b[A\n",
            "PLMS Sampler:  96% 96/100 [00:51<00:02,  1.77it/s]\u001b[A\n",
            "PLMS Sampler:  97% 97/100 [00:52<00:01,  1.77it/s]\u001b[A\n",
            "PLMS Sampler:  98% 98/100 [00:52<00:01,  1.77it/s]\u001b[A\n",
            "PLMS Sampler:  99% 99/100 [00:53<00:00,  1.77it/s]\u001b[A\n",
            "PLMS Sampler: 100% 100/100 [00:53<00:00,  1.86it/s]\n",
            "Test Dataset:  20% 2/10 [01:58<07:48, 58.60s/it]Data shape for PLMS sampling is (4, 4, 64, 64)\n",
            "Running PLMS Sampling with 100 timesteps\n",
            "\n",
            "PLMS Sampler:   0% 0/100 [00:00<?, ?it/s]\u001b[A\n",
            "PLMS Sampler:   1% 1/100 [00:01<01:52,  1.14s/it]\u001b[A\n",
            "PLMS Sampler:   2% 2/100 [00:01<01:18,  1.25it/s]\u001b[A\n",
            "PLMS Sampler:   3% 3/100 [00:02<01:07,  1.43it/s]\u001b[A\n",
            "PLMS Sampler:   4% 4/100 [00:02<01:01,  1.55it/s]\u001b[A\n",
            "PLMS Sampler:   5% 5/100 [00:03<00:58,  1.62it/s]\u001b[A\n",
            "PLMS Sampler:   6% 6/100 [00:03<00:56,  1.66it/s]\u001b[A\n",
            "PLMS Sampler:   7% 7/100 [00:04<00:54,  1.69it/s]\u001b[A\n",
            "PLMS Sampler:   8% 8/100 [00:05<00:54,  1.70it/s]\u001b[A\n",
            "PLMS Sampler:   9% 9/100 [00:05<00:52,  1.72it/s]\u001b[A\n",
            "PLMS Sampler:  10% 10/100 [00:06<00:51,  1.73it/s]\u001b[A\n",
            "PLMS Sampler:  11% 11/100 [00:06<00:50,  1.75it/s]\u001b[A\n",
            "PLMS Sampler:  12% 12/100 [00:07<00:50,  1.75it/s]\u001b[A\n",
            "PLMS Sampler:  13% 13/100 [00:07<00:49,  1.76it/s]\u001b[A\n",
            "PLMS Sampler:  14% 14/100 [00:08<00:48,  1.76it/s]\u001b[A\n",
            "PLMS Sampler:  15% 15/100 [00:09<00:48,  1.76it/s]\u001b[A\n",
            "PLMS Sampler:  16% 16/100 [00:09<00:47,  1.78it/s]\u001b[A\n",
            "PLMS Sampler:  17% 17/100 [00:10<00:46,  1.78it/s]\u001b[A\n",
            "PLMS Sampler:  18% 18/100 [00:10<00:45,  1.79it/s]\u001b[A\n",
            "PLMS Sampler:  19% 19/100 [00:11<00:45,  1.78it/s]\u001b[A\n",
            "PLMS Sampler:  20% 20/100 [00:11<00:44,  1.79it/s]\u001b[A\n",
            "PLMS Sampler:  21% 21/100 [00:12<00:44,  1.79it/s]\u001b[A\n",
            "PLMS Sampler:  22% 22/100 [00:12<00:43,  1.80it/s]\u001b[A\n",
            "PLMS Sampler:  23% 23/100 [00:13<00:42,  1.80it/s]\u001b[A\n",
            "PLMS Sampler:  24% 24/100 [00:14<00:42,  1.80it/s]\u001b[A\n",
            "PLMS Sampler:  25% 25/100 [00:14<00:41,  1.81it/s]\u001b[A\n",
            "PLMS Sampler:  26% 26/100 [00:15<00:40,  1.81it/s]\u001b[A\n",
            "PLMS Sampler:  27% 27/100 [00:15<00:40,  1.82it/s]\u001b[A\n",
            "PLMS Sampler:  28% 28/100 [00:16<00:39,  1.82it/s]\u001b[A\n",
            "PLMS Sampler:  29% 29/100 [00:16<00:38,  1.82it/s]\u001b[A\n",
            "PLMS Sampler:  30% 30/100 [00:17<00:38,  1.82it/s]\u001b[A\n",
            "PLMS Sampler:  31% 31/100 [00:17<00:37,  1.82it/s]\u001b[A\n",
            "PLMS Sampler:  32% 32/100 [00:18<00:37,  1.82it/s]\u001b[A\n",
            "PLMS Sampler:  33% 33/100 [00:19<00:36,  1.82it/s]\u001b[A\n",
            "PLMS Sampler:  34% 34/100 [00:19<00:36,  1.82it/s]\u001b[A\n",
            "PLMS Sampler:  35% 35/100 [00:20<00:35,  1.82it/s]\u001b[A\n",
            "PLMS Sampler:  36% 36/100 [00:20<00:35,  1.83it/s]\u001b[A\n",
            "PLMS Sampler:  37% 37/100 [00:21<00:34,  1.83it/s]\u001b[A\n",
            "PLMS Sampler:  38% 38/100 [00:21<00:33,  1.83it/s]\u001b[A\n",
            "PLMS Sampler:  39% 39/100 [00:22<00:33,  1.83it/s]\u001b[A\n",
            "PLMS Sampler:  40% 40/100 [00:22<00:32,  1.83it/s]\u001b[A\n",
            "PLMS Sampler:  41% 41/100 [00:23<00:32,  1.83it/s]\u001b[A\n",
            "PLMS Sampler:  42% 42/100 [00:23<00:31,  1.83it/s]\u001b[A\n",
            "PLMS Sampler:  43% 43/100 [00:24<00:31,  1.83it/s]\u001b[A\n",
            "PLMS Sampler:  44% 44/100 [00:25<00:30,  1.83it/s]\u001b[A\n",
            "PLMS Sampler:  45% 45/100 [00:25<00:29,  1.83it/s]\u001b[A\n",
            "PLMS Sampler:  46% 46/100 [00:26<00:29,  1.84it/s]\u001b[A\n",
            "PLMS Sampler:  47% 47/100 [00:26<00:28,  1.84it/s]\u001b[A\n",
            "PLMS Sampler:  48% 48/100 [00:27<00:28,  1.84it/s]\u001b[A\n",
            "PLMS Sampler:  49% 49/100 [00:27<00:27,  1.84it/s]\u001b[A\n",
            "PLMS Sampler:  50% 50/100 [00:28<00:27,  1.84it/s]\u001b[A\n",
            "PLMS Sampler:  51% 51/100 [00:28<00:26,  1.84it/s]\u001b[A\n",
            "PLMS Sampler:  52% 52/100 [00:29<00:25,  1.85it/s]\u001b[A\n",
            "PLMS Sampler:  53% 53/100 [00:29<00:25,  1.85it/s]\u001b[A\n",
            "PLMS Sampler:  54% 54/100 [00:30<00:24,  1.85it/s]\u001b[A\n",
            "PLMS Sampler:  55% 55/100 [00:30<00:24,  1.85it/s]\u001b[A\n",
            "PLMS Sampler:  56% 56/100 [00:31<00:23,  1.86it/s]\u001b[A\n",
            "PLMS Sampler:  57% 57/100 [00:32<00:23,  1.85it/s]\u001b[A\n",
            "PLMS Sampler:  58% 58/100 [00:32<00:22,  1.86it/s]\u001b[A\n",
            "PLMS Sampler:  59% 59/100 [00:33<00:22,  1.86it/s]\u001b[A\n",
            "PLMS Sampler:  60% 60/100 [00:33<00:21,  1.86it/s]\u001b[A\n",
            "PLMS Sampler:  61% 61/100 [00:34<00:21,  1.86it/s]\u001b[A\n",
            "PLMS Sampler:  62% 62/100 [00:34<00:20,  1.86it/s]\u001b[A\n",
            "PLMS Sampler:  63% 63/100 [00:35<00:19,  1.86it/s]\u001b[A\n",
            "PLMS Sampler:  64% 64/100 [00:35<00:19,  1.86it/s]\u001b[A\n",
            "PLMS Sampler:  65% 65/100 [00:36<00:18,  1.86it/s]\u001b[A\n",
            "PLMS Sampler:  66% 66/100 [00:36<00:18,  1.86it/s]\u001b[A\n",
            "PLMS Sampler:  67% 67/100 [00:37<00:17,  1.86it/s]\u001b[A\n",
            "PLMS Sampler:  68% 68/100 [00:37<00:17,  1.86it/s]\u001b[A\n",
            "PLMS Sampler:  69% 69/100 [00:38<00:16,  1.86it/s]\u001b[A\n",
            "PLMS Sampler:  70% 70/100 [00:39<00:16,  1.87it/s]\u001b[A\n",
            "PLMS Sampler:  71% 71/100 [00:39<00:15,  1.86it/s]\u001b[A\n",
            "PLMS Sampler:  72% 72/100 [00:40<00:14,  1.87it/s]\u001b[A\n",
            "PLMS Sampler:  73% 73/100 [00:40<00:14,  1.86it/s]\u001b[A\n",
            "PLMS Sampler:  74% 74/100 [00:41<00:13,  1.86it/s]\u001b[A\n",
            "PLMS Sampler:  75% 75/100 [00:41<00:13,  1.86it/s]\u001b[A\n",
            "PLMS Sampler:  76% 76/100 [00:42<00:12,  1.87it/s]\u001b[A\n",
            "PLMS Sampler:  77% 77/100 [00:42<00:12,  1.86it/s]\u001b[A\n",
            "PLMS Sampler:  78% 78/100 [00:43<00:11,  1.87it/s]\u001b[A\n",
            "PLMS Sampler:  79% 79/100 [00:43<00:11,  1.86it/s]\u001b[A\n",
            "PLMS Sampler:  80% 80/100 [00:44<00:10,  1.87it/s]\u001b[A\n",
            "PLMS Sampler:  81% 81/100 [00:44<00:10,  1.86it/s]\u001b[A\n",
            "PLMS Sampler:  82% 82/100 [00:45<00:09,  1.87it/s]\u001b[A\n",
            "PLMS Sampler:  83% 83/100 [00:46<00:09,  1.86it/s]\u001b[A\n",
            "PLMS Sampler:  84% 84/100 [00:46<00:08,  1.87it/s]\u001b[A\n",
            "PLMS Sampler:  85% 85/100 [00:47<00:08,  1.86it/s]\u001b[A\n",
            "PLMS Sampler:  86% 86/100 [00:47<00:07,  1.87it/s]\u001b[A\n",
            "PLMS Sampler:  87% 87/100 [00:48<00:06,  1.86it/s]\u001b[A\n",
            "PLMS Sampler:  88% 88/100 [00:48<00:06,  1.87it/s]\u001b[A\n",
            "PLMS Sampler:  89% 89/100 [00:49<00:05,  1.86it/s]\u001b[A\n",
            "PLMS Sampler:  90% 90/100 [00:49<00:05,  1.86it/s]\u001b[A\n",
            "PLMS Sampler:  91% 91/100 [00:50<00:04,  1.86it/s]\u001b[A\n",
            "PLMS Sampler:  92% 92/100 [00:50<00:04,  1.86it/s]\u001b[A\n",
            "PLMS Sampler:  93% 93/100 [00:51<00:03,  1.86it/s]\u001b[A\n",
            "PLMS Sampler:  94% 94/100 [00:51<00:03,  1.86it/s]\u001b[A\n",
            "PLMS Sampler:  95% 95/100 [00:52<00:02,  1.86it/s]\u001b[A\n",
            "PLMS Sampler:  96% 96/100 [00:53<00:02,  1.86it/s]\u001b[A\n",
            "PLMS Sampler:  97% 97/100 [00:53<00:01,  1.86it/s]\u001b[A\n",
            "PLMS Sampler:  98% 98/100 [00:54<00:01,  1.87it/s]\u001b[A\n",
            "PLMS Sampler:  99% 99/100 [00:54<00:00,  1.86it/s]\u001b[A\n",
            "PLMS Sampler: 100% 100/100 [00:55<00:00,  1.81it/s]\n",
            "Test Dataset:  30% 3/10 [02:56<06:47, 58.24s/it]Data shape for PLMS sampling is (4, 4, 64, 64)\n",
            "Running PLMS Sampling with 100 timesteps\n",
            "\n",
            "PLMS Sampler:   0% 0/100 [00:00<?, ?it/s]\u001b[A\n",
            "PLMS Sampler:   1% 1/100 [00:01<01:46,  1.08s/it]\u001b[A\n",
            "PLMS Sampler:   2% 2/100 [00:01<01:13,  1.33it/s]\u001b[A\n",
            "PLMS Sampler:   3% 3/100 [00:02<01:04,  1.51it/s]\u001b[A\n",
            "PLMS Sampler:   4% 4/100 [00:02<00:58,  1.64it/s]\u001b[A\n",
            "PLMS Sampler:   5% 5/100 [00:03<00:55,  1.70it/s]\u001b[A\n",
            "PLMS Sampler:   6% 6/100 [00:03<00:53,  1.75it/s]\u001b[A\n",
            "PLMS Sampler:   7% 7/100 [00:04<00:52,  1.77it/s]\u001b[A\n",
            "PLMS Sampler:   8% 8/100 [00:04<00:51,  1.80it/s]\u001b[A\n",
            "PLMS Sampler:   9% 9/100 [00:05<00:50,  1.81it/s]\u001b[A\n",
            "PLMS Sampler:  10% 10/100 [00:05<00:49,  1.82it/s]\u001b[A\n",
            "PLMS Sampler:  11% 11/100 [00:06<00:48,  1.82it/s]\u001b[A\n",
            "PLMS Sampler:  12% 12/100 [00:07<00:48,  1.82it/s]\u001b[A\n",
            "PLMS Sampler:  13% 13/100 [00:07<00:47,  1.83it/s]\u001b[A\n",
            "PLMS Sampler:  14% 14/100 [00:08<00:47,  1.83it/s]\u001b[A\n",
            "PLMS Sampler:  15% 15/100 [00:08<00:46,  1.83it/s]\u001b[A\n",
            "PLMS Sampler:  16% 16/100 [00:09<00:46,  1.82it/s]\u001b[A\n",
            "PLMS Sampler:  17% 17/100 [00:09<00:45,  1.83it/s]\u001b[A\n",
            "PLMS Sampler:  18% 18/100 [00:10<00:44,  1.83it/s]\u001b[A\n",
            "PLMS Sampler:  19% 19/100 [00:10<00:44,  1.83it/s]\u001b[A\n",
            "PLMS Sampler:  20% 20/100 [00:11<00:43,  1.83it/s]\u001b[A\n",
            "PLMS Sampler:  21% 21/100 [00:11<00:43,  1.83it/s]\u001b[A\n",
            "PLMS Sampler:  22% 22/100 [00:12<00:42,  1.83it/s]\u001b[A\n",
            "PLMS Sampler:  23% 23/100 [00:13<00:42,  1.83it/s]\u001b[A\n",
            "PLMS Sampler:  24% 24/100 [00:13<00:41,  1.83it/s]\u001b[A\n",
            "PLMS Sampler:  25% 25/100 [00:14<00:41,  1.83it/s]\u001b[A\n",
            "PLMS Sampler:  26% 26/100 [00:14<00:40,  1.83it/s]\u001b[A\n",
            "PLMS Sampler:  27% 27/100 [00:15<00:39,  1.83it/s]\u001b[A\n",
            "PLMS Sampler:  28% 28/100 [00:15<00:39,  1.83it/s]\u001b[A\n",
            "PLMS Sampler:  29% 29/100 [00:16<00:38,  1.83it/s]\u001b[A\n",
            "PLMS Sampler:  30% 30/100 [00:16<00:38,  1.83it/s]\u001b[A\n",
            "PLMS Sampler:  31% 31/100 [00:17<00:37,  1.83it/s]\u001b[A\n",
            "PLMS Sampler:  32% 32/100 [00:17<00:37,  1.83it/s]\u001b[A\n",
            "PLMS Sampler:  33% 33/100 [00:18<00:36,  1.83it/s]\u001b[A\n",
            "PLMS Sampler:  34% 34/100 [00:19<00:36,  1.83it/s]\u001b[A\n",
            "PLMS Sampler:  35% 35/100 [00:19<00:35,  1.83it/s]\u001b[A\n",
            "PLMS Sampler:  36% 36/100 [00:20<00:35,  1.83it/s]\u001b[A\n",
            "PLMS Sampler:  37% 37/100 [00:20<00:34,  1.83it/s]\u001b[A\n",
            "PLMS Sampler:  38% 38/100 [00:21<00:33,  1.83it/s]\u001b[A\n",
            "PLMS Sampler:  39% 39/100 [00:21<00:33,  1.82it/s]\u001b[A\n",
            "PLMS Sampler:  40% 40/100 [00:22<00:32,  1.82it/s]\u001b[A\n",
            "PLMS Sampler:  41% 41/100 [00:22<00:32,  1.82it/s]\u001b[A\n",
            "PLMS Sampler:  42% 42/100 [00:23<00:31,  1.82it/s]\u001b[A\n",
            "PLMS Sampler:  43% 43/100 [00:24<00:31,  1.82it/s]\u001b[A\n",
            "PLMS Sampler:  44% 44/100 [00:24<00:30,  1.82it/s]\u001b[A\n",
            "PLMS Sampler:  45% 45/100 [00:25<00:30,  1.82it/s]\u001b[A\n",
            "PLMS Sampler:  46% 46/100 [00:25<00:29,  1.81it/s]\u001b[A\n",
            "PLMS Sampler:  47% 47/100 [00:26<00:29,  1.81it/s]\u001b[A\n",
            "PLMS Sampler:  48% 48/100 [00:26<00:28,  1.82it/s]\u001b[A\n",
            "PLMS Sampler:  49% 49/100 [00:27<00:28,  1.82it/s]\u001b[A\n",
            "PLMS Sampler:  50% 50/100 [00:27<00:27,  1.82it/s]\u001b[A\n",
            "PLMS Sampler:  51% 51/100 [00:28<00:27,  1.81it/s]\u001b[A\n",
            "PLMS Sampler:  52% 52/100 [00:28<00:26,  1.81it/s]\u001b[A\n",
            "PLMS Sampler:  53% 53/100 [00:29<00:25,  1.82it/s]\u001b[A\n",
            "PLMS Sampler:  54% 54/100 [00:30<00:25,  1.82it/s]\u001b[A\n",
            "PLMS Sampler:  55% 55/100 [00:30<00:24,  1.81it/s]\u001b[A\n",
            "PLMS Sampler:  56% 56/100 [00:31<00:24,  1.81it/s]\u001b[A\n",
            "PLMS Sampler:  57% 57/100 [00:31<00:23,  1.81it/s]\u001b[A\n",
            "PLMS Sampler:  58% 58/100 [00:32<00:23,  1.81it/s]\u001b[A\n",
            "PLMS Sampler:  59% 59/100 [00:32<00:22,  1.81it/s]\u001b[A\n",
            "PLMS Sampler:  60% 60/100 [00:33<00:22,  1.81it/s]\u001b[A\n",
            "PLMS Sampler:  61% 61/100 [00:33<00:21,  1.81it/s]\u001b[A\n",
            "PLMS Sampler:  62% 62/100 [00:34<00:20,  1.81it/s]\u001b[A\n",
            "PLMS Sampler:  63% 63/100 [00:35<00:20,  1.81it/s]\u001b[A\n",
            "PLMS Sampler:  64% 64/100 [00:35<00:19,  1.80it/s]\u001b[A\n",
            "PLMS Sampler:  65% 65/100 [00:36<00:19,  1.81it/s]\u001b[A\n",
            "PLMS Sampler:  66% 66/100 [00:36<00:18,  1.81it/s]\u001b[A\n",
            "PLMS Sampler:  67% 67/100 [00:37<00:18,  1.81it/s]\u001b[A\n",
            "PLMS Sampler:  68% 68/100 [00:37<00:17,  1.81it/s]\u001b[A\n",
            "PLMS Sampler:  69% 69/100 [00:38<00:17,  1.81it/s]\u001b[A\n",
            "PLMS Sampler:  70% 70/100 [00:38<00:16,  1.81it/s]\u001b[A\n",
            "PLMS Sampler:  71% 71/100 [00:39<00:16,  1.81it/s]\u001b[A\n",
            "PLMS Sampler:  72% 72/100 [00:40<00:15,  1.81it/s]\u001b[A\n",
            "PLMS Sampler:  73% 73/100 [00:40<00:14,  1.81it/s]\u001b[A\n",
            "PLMS Sampler:  74% 74/100 [00:41<00:14,  1.81it/s]\u001b[A\n",
            "PLMS Sampler:  75% 75/100 [00:41<00:13,  1.81it/s]\u001b[A\n",
            "PLMS Sampler:  76% 76/100 [00:42<00:13,  1.82it/s]\u001b[A\n",
            "PLMS Sampler:  77% 77/100 [00:42<00:12,  1.82it/s]\u001b[A\n",
            "PLMS Sampler:  78% 78/100 [00:43<00:12,  1.82it/s]\u001b[A\n",
            "PLMS Sampler:  79% 79/100 [00:43<00:11,  1.83it/s]\u001b[A\n",
            "PLMS Sampler:  80% 80/100 [00:44<00:10,  1.83it/s]\u001b[A\n",
            "PLMS Sampler:  81% 81/100 [00:44<00:10,  1.83it/s]\u001b[A\n",
            "PLMS Sampler:  82% 82/100 [00:45<00:09,  1.83it/s]\u001b[A\n",
            "PLMS Sampler:  83% 83/100 [00:46<00:09,  1.83it/s]\u001b[A\n",
            "PLMS Sampler:  84% 84/100 [00:46<00:08,  1.83it/s]\u001b[A\n",
            "PLMS Sampler:  85% 85/100 [00:47<00:08,  1.83it/s]\u001b[A\n",
            "PLMS Sampler:  86% 86/100 [00:47<00:07,  1.83it/s]\u001b[A\n",
            "PLMS Sampler:  87% 87/100 [00:48<00:07,  1.82it/s]\u001b[A\n",
            "PLMS Sampler:  88% 88/100 [00:48<00:06,  1.82it/s]\u001b[A\n",
            "PLMS Sampler:  89% 89/100 [00:49<00:06,  1.82it/s]\u001b[A\n",
            "PLMS Sampler:  90% 90/100 [00:49<00:05,  1.82it/s]\u001b[A\n",
            "PLMS Sampler:  91% 91/100 [00:50<00:04,  1.82it/s]\u001b[A\n",
            "PLMS Sampler:  92% 92/100 [00:50<00:04,  1.83it/s]\u001b[A\n",
            "PLMS Sampler:  93% 93/100 [00:51<00:03,  1.83it/s]\u001b[A\n",
            "PLMS Sampler:  94% 94/100 [00:52<00:03,  1.83it/s]\u001b[A\n",
            "PLMS Sampler:  95% 95/100 [00:52<00:02,  1.83it/s]\u001b[A\n",
            "PLMS Sampler:  96% 96/100 [00:53<00:02,  1.83it/s]\u001b[A\n",
            "PLMS Sampler:  97% 97/100 [00:53<00:01,  1.83it/s]\u001b[A\n",
            "PLMS Sampler:  98% 98/100 [00:54<00:01,  1.83it/s]\u001b[A\n",
            "PLMS Sampler:  99% 99/100 [00:54<00:00,  1.83it/s]\u001b[A\n",
            "PLMS Sampler: 100% 100/100 [00:55<00:00,  1.81it/s]\n",
            "Test Dataset:  40% 4/10 [03:53<05:48, 58.12s/it]Data shape for PLMS sampling is (4, 4, 64, 64)\n",
            "Running PLMS Sampling with 100 timesteps\n",
            "\n",
            "PLMS Sampler:   0% 0/100 [00:00<?, ?it/s]\u001b[A\n",
            "PLMS Sampler:   1% 1/100 [00:01<01:47,  1.09s/it]\u001b[A\n",
            "PLMS Sampler:   2% 2/100 [00:01<01:14,  1.31it/s]\u001b[A\n",
            "PLMS Sampler:   3% 3/100 [00:02<01:04,  1.50it/s]\u001b[A\n",
            "PLMS Sampler:   4% 4/100 [00:02<00:59,  1.62it/s]\u001b[A\n",
            "PLMS Sampler:   5% 5/100 [00:03<00:56,  1.68it/s]\u001b[A\n",
            "PLMS Sampler:   6% 6/100 [00:03<00:54,  1.73it/s]\u001b[A\n",
            "PLMS Sampler:   7% 7/100 [00:04<00:52,  1.76it/s]\u001b[A\n",
            "PLMS Sampler:   8% 8/100 [00:04<00:51,  1.78it/s]\u001b[A\n",
            "PLMS Sampler:   9% 9/100 [00:05<00:50,  1.80it/s]\u001b[A\n",
            "PLMS Sampler:  10% 10/100 [00:06<00:49,  1.80it/s]\u001b[A\n",
            "PLMS Sampler:  11% 11/100 [00:06<00:49,  1.82it/s]\u001b[A\n",
            "PLMS Sampler:  12% 12/100 [00:07<00:48,  1.82it/s]\u001b[A\n",
            "PLMS Sampler:  13% 13/100 [00:07<00:47,  1.82it/s]\u001b[A\n",
            "PLMS Sampler:  14% 14/100 [00:08<00:47,  1.82it/s]\u001b[A\n",
            "PLMS Sampler:  15% 15/100 [00:08<00:46,  1.83it/s]\u001b[A\n",
            "PLMS Sampler:  16% 16/100 [00:09<00:45,  1.83it/s]\u001b[A\n",
            "PLMS Sampler:  17% 17/100 [00:09<00:45,  1.83it/s]\u001b[A\n",
            "PLMS Sampler:  18% 18/100 [00:10<00:44,  1.83it/s]\u001b[A\n",
            "PLMS Sampler:  19% 19/100 [00:10<00:44,  1.83it/s]\u001b[A\n",
            "PLMS Sampler:  20% 20/100 [00:11<00:43,  1.83it/s]\u001b[A\n",
            "PLMS Sampler:  21% 21/100 [00:12<00:43,  1.83it/s]\u001b[A\n",
            "PLMS Sampler:  22% 22/100 [00:12<00:42,  1.84it/s]\u001b[A\n",
            "PLMS Sampler:  23% 23/100 [00:13<00:41,  1.84it/s]\u001b[A\n",
            "PLMS Sampler:  24% 24/100 [00:13<00:41,  1.84it/s]\u001b[A\n",
            "PLMS Sampler:  25% 25/100 [00:14<00:40,  1.83it/s]\u001b[A\n",
            "PLMS Sampler:  26% 26/100 [00:14<00:40,  1.83it/s]\u001b[A\n",
            "PLMS Sampler:  27% 27/100 [00:15<00:39,  1.83it/s]\u001b[A\n",
            "PLMS Sampler:  28% 28/100 [00:15<00:39,  1.83it/s]\u001b[A\n",
            "PLMS Sampler:  29% 29/100 [00:16<00:38,  1.83it/s]\u001b[A\n",
            "PLMS Sampler:  30% 30/100 [00:16<00:38,  1.83it/s]\u001b[A\n",
            "PLMS Sampler:  31% 31/100 [00:17<00:37,  1.83it/s]\u001b[A\n",
            "PLMS Sampler:  32% 32/100 [00:18<00:37,  1.83it/s]\u001b[A\n",
            "PLMS Sampler:  33% 33/100 [00:18<00:36,  1.83it/s]\u001b[A\n",
            "PLMS Sampler:  34% 34/100 [00:19<00:36,  1.83it/s]\u001b[A\n",
            "PLMS Sampler:  35% 35/100 [00:19<00:35,  1.83it/s]\u001b[A\n",
            "PLMS Sampler:  36% 36/100 [00:20<00:34,  1.83it/s]\u001b[A\n",
            "PLMS Sampler:  37% 37/100 [00:20<00:34,  1.83it/s]\u001b[A\n",
            "PLMS Sampler:  38% 38/100 [00:21<00:33,  1.83it/s]\u001b[A\n",
            "PLMS Sampler:  39% 39/100 [00:21<00:33,  1.83it/s]\u001b[A\n",
            "PLMS Sampler:  40% 40/100 [00:22<00:32,  1.83it/s]\u001b[A\n",
            "PLMS Sampler:  41% 41/100 [00:22<00:32,  1.83it/s]\u001b[A\n",
            "PLMS Sampler:  42% 42/100 [00:23<00:31,  1.83it/s]\u001b[A\n",
            "PLMS Sampler:  43% 43/100 [00:24<00:31,  1.83it/s]\u001b[A\n",
            "PLMS Sampler:  44% 44/100 [00:24<00:30,  1.83it/s]\u001b[A\n",
            "PLMS Sampler:  45% 45/100 [00:25<00:30,  1.83it/s]\u001b[A\n",
            "PLMS Sampler:  46% 46/100 [00:25<00:29,  1.83it/s]\u001b[A\n",
            "PLMS Sampler:  47% 47/100 [00:26<00:29,  1.83it/s]\u001b[A\n",
            "PLMS Sampler:  48% 48/100 [00:26<00:28,  1.83it/s]\u001b[A\n",
            "PLMS Sampler:  49% 49/100 [00:27<00:27,  1.83it/s]\u001b[A\n",
            "PLMS Sampler:  50% 50/100 [00:27<00:27,  1.83it/s]\u001b[A\n",
            "PLMS Sampler:  51% 51/100 [00:28<00:26,  1.83it/s]\u001b[A\n",
            "PLMS Sampler:  52% 52/100 [00:28<00:26,  1.83it/s]\u001b[A\n",
            "PLMS Sampler:  53% 53/100 [00:29<00:25,  1.83it/s]\u001b[A\n",
            "PLMS Sampler:  54% 54/100 [00:30<00:25,  1.83it/s]\u001b[A\n",
            "PLMS Sampler:  55% 55/100 [00:30<00:24,  1.83it/s]\u001b[A\n",
            "PLMS Sampler:  56% 56/100 [00:31<00:24,  1.83it/s]\u001b[A\n",
            "PLMS Sampler:  57% 57/100 [00:31<00:23,  1.83it/s]\u001b[A\n",
            "PLMS Sampler:  58% 58/100 [00:32<00:22,  1.83it/s]\u001b[A\n",
            "PLMS Sampler:  59% 59/100 [00:32<00:22,  1.83it/s]\u001b[A\n",
            "PLMS Sampler:  60% 60/100 [00:33<00:21,  1.83it/s]\u001b[A\n",
            "PLMS Sampler:  61% 61/100 [00:33<00:21,  1.83it/s]\u001b[A\n",
            "PLMS Sampler:  62% 62/100 [00:34<00:20,  1.83it/s]\u001b[A\n",
            "PLMS Sampler:  63% 63/100 [00:34<00:20,  1.83it/s]\u001b[A\n",
            "PLMS Sampler:  64% 64/100 [00:35<00:19,  1.83it/s]\u001b[A\n",
            "PLMS Sampler:  65% 65/100 [00:36<00:19,  1.83it/s]\u001b[A\n",
            "PLMS Sampler:  66% 66/100 [00:36<00:18,  1.83it/s]\u001b[A\n",
            "PLMS Sampler:  67% 67/100 [00:37<00:18,  1.83it/s]\u001b[A\n",
            "PLMS Sampler:  68% 68/100 [00:37<00:17,  1.83it/s]\u001b[A\n",
            "PLMS Sampler:  69% 69/100 [00:38<00:16,  1.83it/s]\u001b[A\n",
            "PLMS Sampler:  70% 70/100 [00:38<00:16,  1.83it/s]\u001b[A\n",
            "PLMS Sampler:  71% 71/100 [00:39<00:15,  1.83it/s]\u001b[A\n",
            "PLMS Sampler:  72% 72/100 [00:39<00:15,  1.83it/s]\u001b[A\n",
            "PLMS Sampler:  73% 73/100 [00:40<00:14,  1.83it/s]\u001b[A\n",
            "PLMS Sampler:  74% 74/100 [00:40<00:14,  1.83it/s]\u001b[A\n",
            "PLMS Sampler:  75% 75/100 [00:41<00:13,  1.83it/s]\u001b[A\n",
            "PLMS Sampler:  76% 76/100 [00:42<00:13,  1.83it/s]\u001b[A\n",
            "PLMS Sampler:  77% 77/100 [00:42<00:12,  1.83it/s]\u001b[A\n",
            "PLMS Sampler:  78% 78/100 [00:43<00:12,  1.83it/s]\u001b[A\n",
            "PLMS Sampler:  79% 79/100 [00:43<00:11,  1.83it/s]\u001b[A\n",
            "PLMS Sampler:  80% 80/100 [00:44<00:10,  1.83it/s]\u001b[A\n",
            "PLMS Sampler:  81% 81/100 [00:44<00:10,  1.83it/s]\u001b[A\n",
            "PLMS Sampler:  82% 82/100 [00:45<00:09,  1.83it/s]\u001b[A\n",
            "PLMS Sampler:  83% 83/100 [00:45<00:09,  1.83it/s]\u001b[A\n",
            "PLMS Sampler:  84% 84/100 [00:46<00:08,  1.83it/s]\u001b[A\n",
            "PLMS Sampler:  85% 85/100 [00:46<00:08,  1.83it/s]\u001b[A\n",
            "PLMS Sampler:  86% 86/100 [00:47<00:07,  1.83it/s]\u001b[A\n",
            "PLMS Sampler:  87% 87/100 [00:48<00:07,  1.83it/s]\u001b[A\n",
            "PLMS Sampler:  88% 88/100 [00:48<00:06,  1.83it/s]\u001b[A\n",
            "PLMS Sampler:  89% 89/100 [00:49<00:06,  1.83it/s]\u001b[A\n",
            "PLMS Sampler:  90% 90/100 [00:49<00:05,  1.83it/s]\u001b[A\n",
            "PLMS Sampler:  91% 91/100 [00:50<00:04,  1.83it/s]\u001b[A\n",
            "PLMS Sampler:  92% 92/100 [00:50<00:04,  1.83it/s]\u001b[A\n",
            "PLMS Sampler:  93% 93/100 [00:51<00:03,  1.83it/s]\u001b[A\n",
            "PLMS Sampler:  94% 94/100 [00:51<00:03,  1.83it/s]\u001b[A\n",
            "PLMS Sampler:  95% 95/100 [00:52<00:02,  1.83it/s]\u001b[A\n",
            "PLMS Sampler:  96% 96/100 [00:53<00:02,  1.83it/s]\u001b[A\n",
            "PLMS Sampler:  97% 97/100 [00:53<00:01,  1.83it/s]\u001b[A\n",
            "PLMS Sampler:  98% 98/100 [00:54<00:01,  1.83it/s]\u001b[A\n",
            "PLMS Sampler:  99% 99/100 [00:54<00:00,  1.83it/s]\u001b[A\n",
            "PLMS Sampler: 100% 100/100 [00:55<00:00,  1.81it/s]\n",
            "Test Dataset:  50% 5/10 [04:51<04:50, 58.04s/it]Data shape for PLMS sampling is (4, 4, 64, 64)\n",
            "Running PLMS Sampling with 100 timesteps\n",
            "\n",
            "PLMS Sampler:   0% 0/100 [00:00<?, ?it/s]\u001b[A\n",
            "PLMS Sampler:   1% 1/100 [00:01<01:48,  1.09s/it]\u001b[A\n",
            "PLMS Sampler:   2% 2/100 [00:01<01:14,  1.31it/s]\u001b[A\n",
            "PLMS Sampler:   3% 3/100 [00:02<01:05,  1.48it/s]\u001b[A\n",
            "PLMS Sampler:   4% 4/100 [00:02<00:59,  1.61it/s]\u001b[A\n",
            "PLMS Sampler:   5% 5/100 [00:03<00:56,  1.67it/s]\u001b[A\n",
            "PLMS Sampler:   6% 6/100 [00:03<00:54,  1.72it/s]\u001b[A\n",
            "PLMS Sampler:   7% 7/100 [00:04<00:53,  1.75it/s]\u001b[A\n",
            "PLMS Sampler:   8% 8/100 [00:04<00:51,  1.78it/s]\u001b[A\n",
            "PLMS Sampler:   9% 9/100 [00:05<00:50,  1.79it/s]\u001b[A\n",
            "PLMS Sampler:  10% 10/100 [00:06<00:49,  1.80it/s]\u001b[A\n",
            "PLMS Sampler:  11% 11/100 [00:06<00:49,  1.81it/s]\u001b[A\n",
            "PLMS Sampler:  12% 12/100 [00:07<00:48,  1.82it/s]\u001b[A\n",
            "PLMS Sampler:  13% 13/100 [00:07<00:47,  1.82it/s]\u001b[A\n",
            "PLMS Sampler:  14% 14/100 [00:08<00:47,  1.82it/s]\u001b[A\n",
            "PLMS Sampler:  15% 15/100 [00:08<00:46,  1.83it/s]\u001b[A\n",
            "PLMS Sampler:  16% 16/100 [00:09<00:46,  1.82it/s]\u001b[A\n",
            "PLMS Sampler:  17% 17/100 [00:09<00:45,  1.82it/s]\u001b[A\n",
            "PLMS Sampler:  18% 18/100 [00:10<00:45,  1.82it/s]\u001b[A\n",
            "PLMS Sampler:  19% 19/100 [00:10<00:44,  1.82it/s]\u001b[A\n",
            "PLMS Sampler:  20% 20/100 [00:11<00:43,  1.82it/s]\u001b[A\n",
            "PLMS Sampler:  21% 21/100 [00:12<00:43,  1.82it/s]\u001b[A\n",
            "PLMS Sampler:  22% 22/100 [00:12<00:42,  1.83it/s]\u001b[A\n",
            "PLMS Sampler:  23% 23/100 [00:13<00:42,  1.82it/s]\u001b[A\n",
            "PLMS Sampler:  24% 24/100 [00:13<00:41,  1.83it/s]\u001b[A\n",
            "PLMS Sampler:  25% 25/100 [00:14<00:41,  1.83it/s]\u001b[A\n",
            "PLMS Sampler:  26% 26/100 [00:14<00:40,  1.83it/s]\u001b[A\n",
            "PLMS Sampler:  27% 27/100 [00:15<00:39,  1.83it/s]\u001b[A\n",
            "PLMS Sampler:  28% 28/100 [00:15<00:39,  1.83it/s]\u001b[A\n",
            "PLMS Sampler:  29% 29/100 [00:16<00:38,  1.82it/s]\u001b[A\n",
            "PLMS Sampler:  30% 30/100 [00:16<00:38,  1.82it/s]\u001b[A\n",
            "PLMS Sampler:  31% 31/100 [00:17<00:38,  1.81it/s]\u001b[A\n",
            "PLMS Sampler:  32% 32/100 [00:18<00:37,  1.81it/s]\u001b[A\n",
            "PLMS Sampler:  33% 33/100 [00:18<00:36,  1.82it/s]\u001b[A\n",
            "PLMS Sampler:  34% 34/100 [00:19<00:36,  1.82it/s]\u001b[A\n",
            "PLMS Sampler:  35% 35/100 [00:19<00:35,  1.82it/s]\u001b[A\n",
            "PLMS Sampler:  36% 36/100 [00:20<00:35,  1.81it/s]\u001b[A\n",
            "PLMS Sampler:  37% 37/100 [00:20<00:34,  1.81it/s]\u001b[A\n",
            "PLMS Sampler:  38% 38/100 [00:21<00:34,  1.81it/s]\u001b[A\n",
            "PLMS Sampler:  39% 39/100 [00:21<00:33,  1.82it/s]\u001b[A\n",
            "PLMS Sampler:  40% 40/100 [00:22<00:32,  1.82it/s]\u001b[A\n",
            "PLMS Sampler:  41% 41/100 [00:23<00:32,  1.82it/s]\u001b[A\n",
            "PLMS Sampler:  42% 42/100 [00:23<00:32,  1.81it/s]\u001b[A\n",
            "PLMS Sampler:  43% 43/100 [00:24<00:31,  1.81it/s]\u001b[A\n",
            "PLMS Sampler:  44% 44/100 [00:24<00:30,  1.82it/s]\u001b[A\n",
            "PLMS Sampler:  45% 45/100 [00:25<00:30,  1.82it/s]\u001b[A\n",
            "PLMS Sampler:  46% 46/100 [00:25<00:29,  1.82it/s]\u001b[A\n",
            "PLMS Sampler:  47% 47/100 [00:26<00:29,  1.81it/s]\u001b[A\n",
            "PLMS Sampler:  48% 48/100 [00:26<00:28,  1.81it/s]\u001b[A\n",
            "PLMS Sampler:  49% 49/100 [00:27<00:28,  1.82it/s]\u001b[A\n",
            "PLMS Sampler:  50% 50/100 [00:28<00:27,  1.82it/s]\u001b[A\n",
            "PLMS Sampler:  51% 51/100 [00:28<00:26,  1.82it/s]\u001b[A\n",
            "PLMS Sampler:  52% 52/100 [00:29<00:26,  1.82it/s]\u001b[A\n",
            "PLMS Sampler:  53% 53/100 [00:29<00:25,  1.82it/s]\u001b[A\n",
            "PLMS Sampler:  54% 54/100 [00:30<00:25,  1.82it/s]\u001b[A\n",
            "PLMS Sampler:  55% 55/100 [00:30<00:24,  1.82it/s]\u001b[A\n",
            "PLMS Sampler:  56% 56/100 [00:31<00:24,  1.81it/s]\u001b[A\n",
            "PLMS Sampler:  57% 57/100 [00:31<00:23,  1.81it/s]\u001b[A\n",
            "PLMS Sampler:  58% 58/100 [00:32<00:23,  1.81it/s]\u001b[A\n",
            "PLMS Sampler:  59% 59/100 [00:32<00:22,  1.81it/s]\u001b[A\n",
            "PLMS Sampler:  60% 60/100 [00:33<00:22,  1.81it/s]\u001b[A\n",
            "PLMS Sampler:  61% 61/100 [00:34<00:21,  1.81it/s]\u001b[A\n",
            "PLMS Sampler:  62% 62/100 [00:34<00:20,  1.82it/s]\u001b[A\n",
            "PLMS Sampler:  63% 63/100 [00:35<00:20,  1.82it/s]\u001b[A\n",
            "PLMS Sampler:  64% 64/100 [00:35<00:19,  1.82it/s]\u001b[A\n",
            "PLMS Sampler:  65% 65/100 [00:36<00:19,  1.82it/s]\u001b[A\n",
            "PLMS Sampler:  66% 66/100 [00:36<00:18,  1.83it/s]\u001b[A\n",
            "PLMS Sampler:  67% 67/100 [00:37<00:18,  1.83it/s]\u001b[A\n",
            "PLMS Sampler:  68% 68/100 [00:37<00:17,  1.83it/s]\u001b[A\n",
            "PLMS Sampler:  69% 69/100 [00:38<00:16,  1.83it/s]\u001b[A\n",
            "PLMS Sampler:  70% 70/100 [00:38<00:16,  1.83it/s]\u001b[A\n",
            "PLMS Sampler:  71% 71/100 [00:39<00:15,  1.83it/s]\u001b[A\n",
            "PLMS Sampler:  72% 72/100 [00:40<00:15,  1.83it/s]\u001b[A\n",
            "PLMS Sampler:  73% 73/100 [00:40<00:14,  1.83it/s]\u001b[A\n",
            "PLMS Sampler:  74% 74/100 [00:41<00:14,  1.83it/s]\u001b[A\n",
            "PLMS Sampler:  75% 75/100 [00:41<00:13,  1.83it/s]\u001b[A\n",
            "PLMS Sampler:  76% 76/100 [00:42<00:13,  1.83it/s]\u001b[A\n",
            "PLMS Sampler:  77% 77/100 [00:42<00:12,  1.83it/s]\u001b[A\n",
            "PLMS Sampler:  78% 78/100 [00:43<00:12,  1.83it/s]\u001b[A\n",
            "PLMS Sampler:  79% 79/100 [00:43<00:11,  1.83it/s]\u001b[A\n",
            "PLMS Sampler:  80% 80/100 [00:44<00:10,  1.83it/s]\u001b[A\n",
            "PLMS Sampler:  81% 81/100 [00:45<00:10,  1.83it/s]\u001b[A\n",
            "PLMS Sampler:  82% 82/100 [00:45<00:09,  1.82it/s]\u001b[A\n",
            "PLMS Sampler:  83% 83/100 [00:46<00:09,  1.82it/s]\u001b[A\n",
            "PLMS Sampler:  84% 84/100 [00:46<00:08,  1.82it/s]\u001b[A\n",
            "PLMS Sampler:  85% 85/100 [00:47<00:08,  1.82it/s]\u001b[A\n",
            "PLMS Sampler:  86% 86/100 [00:47<00:07,  1.82it/s]\u001b[A\n",
            "PLMS Sampler:  87% 87/100 [00:48<00:07,  1.82it/s]\u001b[A\n",
            "PLMS Sampler:  88% 88/100 [00:48<00:06,  1.82it/s]\u001b[A\n",
            "PLMS Sampler:  89% 89/100 [00:49<00:06,  1.82it/s]\u001b[A\n",
            "PLMS Sampler:  90% 90/100 [00:49<00:05,  1.82it/s]\u001b[A\n",
            "PLMS Sampler:  91% 91/100 [00:50<00:04,  1.82it/s]\u001b[A\n",
            "PLMS Sampler:  92% 92/100 [00:51<00:04,  1.82it/s]\u001b[A\n",
            "PLMS Sampler:  93% 93/100 [00:51<00:03,  1.82it/s]\u001b[A\n",
            "PLMS Sampler:  94% 94/100 [00:52<00:03,  1.83it/s]\u001b[A\n",
            "PLMS Sampler:  95% 95/100 [00:52<00:02,  1.83it/s]\u001b[A\n",
            "PLMS Sampler:  96% 96/100 [00:53<00:02,  1.83it/s]\u001b[A\n",
            "PLMS Sampler:  97% 97/100 [00:53<00:01,  1.83it/s]\u001b[A\n",
            "PLMS Sampler:  98% 98/100 [00:54<00:01,  1.83it/s]\u001b[A\n",
            "PLMS Sampler:  99% 99/100 [00:54<00:00,  1.83it/s]\u001b[A\n",
            "PLMS Sampler: 100% 100/100 [00:55<00:00,  1.80it/s]\n",
            "Test Dataset:  60% 6/10 [05:49<03:52, 58.05s/it]Data shape for PLMS sampling is (4, 4, 64, 64)\n",
            "Running PLMS Sampling with 100 timesteps\n",
            "\n",
            "PLMS Sampler:   0% 0/100 [00:00<?, ?it/s]\u001b[A\n",
            "PLMS Sampler:   1% 1/100 [00:01<01:48,  1.09s/it]\u001b[A\n",
            "PLMS Sampler:   2% 2/100 [00:01<01:14,  1.31it/s]\u001b[A\n",
            "PLMS Sampler:   3% 3/100 [00:02<01:05,  1.48it/s]\u001b[A\n",
            "PLMS Sampler:   4% 4/100 [00:02<00:59,  1.61it/s]\u001b[A\n",
            "PLMS Sampler:   5% 5/100 [00:03<00:56,  1.67it/s]\u001b[A\n",
            "PLMS Sampler:   6% 6/100 [00:03<00:54,  1.72it/s]\u001b[A\n",
            "PLMS Sampler:   7% 7/100 [00:04<00:53,  1.75it/s]\u001b[A\n",
            "PLMS Sampler:   8% 8/100 [00:04<00:51,  1.78it/s]\u001b[A\n",
            "PLMS Sampler:   9% 9/100 [00:05<00:50,  1.79it/s]\u001b[A\n",
            "PLMS Sampler:  10% 10/100 [00:06<00:49,  1.80it/s]\u001b[A\n",
            "PLMS Sampler:  11% 11/100 [00:06<00:49,  1.82it/s]\u001b[A\n",
            "PLMS Sampler:  12% 12/100 [00:07<00:48,  1.82it/s]\u001b[A\n",
            "PLMS Sampler:  13% 13/100 [00:07<00:47,  1.82it/s]\u001b[A\n",
            "PLMS Sampler:  14% 14/100 [00:08<00:47,  1.82it/s]\u001b[A\n",
            "PLMS Sampler:  15% 15/100 [00:08<00:46,  1.82it/s]\u001b[A\n",
            "PLMS Sampler:  16% 16/100 [00:09<00:46,  1.82it/s]\u001b[A\n",
            "PLMS Sampler:  17% 17/100 [00:09<00:45,  1.82it/s]\u001b[A\n",
            "PLMS Sampler:  18% 18/100 [00:10<00:45,  1.82it/s]\u001b[A\n",
            "PLMS Sampler:  19% 19/100 [00:10<00:44,  1.82it/s]\u001b[A\n",
            "PLMS Sampler:  20% 20/100 [00:11<00:43,  1.83it/s]\u001b[A\n",
            "PLMS Sampler:  21% 21/100 [00:12<00:43,  1.82it/s]\u001b[A\n",
            "PLMS Sampler:  22% 22/100 [00:12<00:42,  1.83it/s]\u001b[A\n",
            "PLMS Sampler:  23% 23/100 [00:13<00:42,  1.83it/s]\u001b[A\n",
            "PLMS Sampler:  24% 24/100 [00:13<00:41,  1.83it/s]\u001b[A\n",
            "PLMS Sampler:  25% 25/100 [00:14<00:41,  1.83it/s]\u001b[A\n",
            "PLMS Sampler:  26% 26/100 [00:14<00:40,  1.83it/s]\u001b[A\n",
            "PLMS Sampler:  27% 27/100 [00:15<00:39,  1.83it/s]\u001b[A\n",
            "PLMS Sampler:  28% 28/100 [00:15<00:39,  1.83it/s]\u001b[A\n",
            "PLMS Sampler:  29% 29/100 [00:16<00:38,  1.83it/s]\u001b[A\n",
            "PLMS Sampler:  30% 30/100 [00:16<00:38,  1.83it/s]\u001b[A\n",
            "PLMS Sampler:  31% 31/100 [00:17<00:37,  1.83it/s]\u001b[A\n",
            "PLMS Sampler:  32% 32/100 [00:18<00:37,  1.83it/s]\u001b[A\n",
            "PLMS Sampler:  33% 33/100 [00:18<00:36,  1.83it/s]\u001b[A\n",
            "PLMS Sampler:  34% 34/100 [00:19<00:36,  1.83it/s]\u001b[A\n",
            "PLMS Sampler:  35% 35/100 [00:19<00:35,  1.83it/s]\u001b[A\n",
            "PLMS Sampler:  36% 36/100 [00:20<00:35,  1.83it/s]\u001b[A\n",
            "PLMS Sampler:  37% 37/100 [00:20<00:34,  1.83it/s]\u001b[A\n",
            "PLMS Sampler:  38% 38/100 [00:21<00:33,  1.83it/s]\u001b[A\n",
            "PLMS Sampler:  39% 39/100 [00:21<00:33,  1.83it/s]\u001b[A\n",
            "PLMS Sampler:  40% 40/100 [00:22<00:32,  1.82it/s]\u001b[A\n",
            "PLMS Sampler:  41% 41/100 [00:22<00:32,  1.83it/s]\u001b[A\n",
            "PLMS Sampler:  42% 42/100 [00:23<00:31,  1.83it/s]\u001b[A\n",
            "PLMS Sampler:  43% 43/100 [00:24<00:31,  1.83it/s]\u001b[A\n",
            "PLMS Sampler:  44% 44/100 [00:24<00:30,  1.83it/s]\u001b[A\n",
            "PLMS Sampler:  45% 45/100 [00:25<00:30,  1.83it/s]\u001b[A\n",
            "PLMS Sampler:  46% 46/100 [00:25<00:29,  1.83it/s]\u001b[A\n",
            "PLMS Sampler:  47% 47/100 [00:26<00:29,  1.83it/s]\u001b[A\n",
            "PLMS Sampler:  48% 48/100 [00:26<00:28,  1.83it/s]\u001b[A\n",
            "PLMS Sampler:  49% 49/100 [00:27<00:27,  1.83it/s]\u001b[A\n",
            "PLMS Sampler:  50% 50/100 [00:27<00:27,  1.83it/s]\u001b[A\n",
            "PLMS Sampler:  51% 51/100 [00:28<00:26,  1.83it/s]\u001b[A\n",
            "PLMS Sampler:  52% 52/100 [00:29<00:26,  1.83it/s]\u001b[A\n",
            "PLMS Sampler:  53% 53/100 [00:29<00:25,  1.83it/s]\u001b[A\n",
            "PLMS Sampler:  54% 54/100 [00:30<00:25,  1.83it/s]\u001b[A\n",
            "PLMS Sampler:  55% 55/100 [00:30<00:24,  1.83it/s]\u001b[A\n",
            "PLMS Sampler:  56% 56/100 [00:31<00:24,  1.83it/s]\u001b[A\n",
            "PLMS Sampler:  57% 57/100 [00:31<00:23,  1.83it/s]\u001b[A\n",
            "PLMS Sampler:  58% 58/100 [00:32<00:23,  1.82it/s]\u001b[A\n",
            "PLMS Sampler:  59% 59/100 [00:32<00:22,  1.83it/s]\u001b[A\n",
            "PLMS Sampler:  60% 60/100 [00:33<00:21,  1.82it/s]\u001b[A\n",
            "PLMS Sampler:  61% 61/100 [00:33<00:21,  1.83it/s]\u001b[A\n",
            "PLMS Sampler:  62% 62/100 [00:34<00:20,  1.82it/s]\u001b[A\n",
            "PLMS Sampler:  63% 63/100 [00:35<00:20,  1.83it/s]\u001b[A\n",
            "PLMS Sampler:  64% 64/100 [00:35<00:19,  1.83it/s]\u001b[A\n",
            "PLMS Sampler:  65% 65/100 [00:36<00:19,  1.83it/s]\u001b[A\n",
            "PLMS Sampler:  66% 66/100 [00:36<00:18,  1.83it/s]\u001b[A\n",
            "PLMS Sampler:  67% 67/100 [00:37<00:18,  1.83it/s]\u001b[A\n",
            "PLMS Sampler:  68% 68/100 [00:37<00:17,  1.83it/s]\u001b[A\n",
            "PLMS Sampler:  69% 69/100 [00:38<00:16,  1.83it/s]\u001b[A\n",
            "PLMS Sampler:  70% 70/100 [00:38<00:16,  1.83it/s]\u001b[A\n",
            "PLMS Sampler:  71% 71/100 [00:39<00:15,  1.83it/s]\u001b[A\n",
            "PLMS Sampler:  72% 72/100 [00:39<00:15,  1.83it/s]\u001b[A\n",
            "PLMS Sampler:  73% 73/100 [00:40<00:14,  1.83it/s]\u001b[A\n",
            "PLMS Sampler:  74% 74/100 [00:41<00:14,  1.84it/s]\u001b[A\n",
            "PLMS Sampler:  75% 75/100 [00:41<00:13,  1.82it/s]\u001b[A\n",
            "PLMS Sampler:  76% 76/100 [00:42<00:13,  1.83it/s]\u001b[A\n",
            "PLMS Sampler:  77% 77/100 [00:42<00:12,  1.83it/s]\u001b[A\n",
            "PLMS Sampler:  78% 78/100 [00:43<00:12,  1.83it/s]\u001b[A\n",
            "PLMS Sampler:  79% 79/100 [00:43<00:11,  1.83it/s]\u001b[A\n",
            "PLMS Sampler:  80% 80/100 [00:44<00:10,  1.83it/s]\u001b[A\n",
            "PLMS Sampler:  81% 81/100 [00:44<00:10,  1.83it/s]\u001b[A\n",
            "PLMS Sampler:  82% 82/100 [00:45<00:09,  1.83it/s]\u001b[A\n",
            "PLMS Sampler:  83% 83/100 [00:45<00:09,  1.83it/s]\u001b[A\n",
            "PLMS Sampler:  84% 84/100 [00:46<00:08,  1.83it/s]\u001b[A\n",
            "PLMS Sampler:  85% 85/100 [00:47<00:08,  1.83it/s]\u001b[A\n",
            "PLMS Sampler:  86% 86/100 [00:47<00:07,  1.83it/s]\u001b[A\n",
            "PLMS Sampler:  87% 87/100 [00:48<00:07,  1.83it/s]\u001b[A\n",
            "PLMS Sampler:  88% 88/100 [00:48<00:06,  1.83it/s]\u001b[A\n",
            "PLMS Sampler:  89% 89/100 [00:49<00:06,  1.83it/s]\u001b[A\n",
            "PLMS Sampler:  90% 90/100 [00:49<00:05,  1.83it/s]\u001b[A\n",
            "PLMS Sampler:  91% 91/100 [00:50<00:04,  1.83it/s]\u001b[A\n",
            "PLMS Sampler:  92% 92/100 [00:50<00:04,  1.83it/s]\u001b[A\n",
            "PLMS Sampler:  93% 93/100 [00:51<00:03,  1.83it/s]\u001b[A\n",
            "PLMS Sampler:  94% 94/100 [00:51<00:03,  1.83it/s]\u001b[A\n",
            "PLMS Sampler:  95% 95/100 [00:52<00:02,  1.83it/s]\u001b[A\n",
            "PLMS Sampler:  96% 96/100 [00:53<00:02,  1.83it/s]\u001b[A\n",
            "PLMS Sampler:  97% 97/100 [00:53<00:01,  1.83it/s]\u001b[A\n",
            "PLMS Sampler:  98% 98/100 [00:54<00:01,  1.83it/s]\u001b[A\n",
            "PLMS Sampler:  99% 99/100 [00:54<00:00,  1.83it/s]\u001b[A\n",
            "PLMS Sampler: 100% 100/100 [00:55<00:00,  1.81it/s]\n",
            "Test Dataset:  70% 7/10 [06:47<02:53, 57.96s/it]Data shape for PLMS sampling is (4, 4, 64, 64)\n",
            "Running PLMS Sampling with 100 timesteps\n",
            "\n",
            "PLMS Sampler:   0% 0/100 [00:00<?, ?it/s]\u001b[A\n",
            "PLMS Sampler:   1% 1/100 [00:01<01:47,  1.09s/it]\u001b[A\n",
            "PLMS Sampler:   2% 2/100 [00:01<01:14,  1.31it/s]\u001b[A\n",
            "PLMS Sampler:   3% 3/100 [00:02<01:04,  1.49it/s]\u001b[A\n",
            "PLMS Sampler:   4% 4/100 [00:02<00:59,  1.62it/s]\u001b[A\n",
            "PLMS Sampler:   5% 5/100 [00:03<00:56,  1.68it/s]\u001b[A\n",
            "PLMS Sampler:   6% 6/100 [00:03<00:54,  1.73it/s]\u001b[A\n",
            "PLMS Sampler:   7% 7/100 [00:04<00:52,  1.76it/s]\u001b[A\n",
            "PLMS Sampler:   8% 8/100 [00:04<00:51,  1.78it/s]\u001b[A\n",
            "PLMS Sampler:   9% 9/100 [00:05<00:50,  1.80it/s]\u001b[A\n",
            "PLMS Sampler:  10% 10/100 [00:06<00:49,  1.80it/s]\u001b[A\n",
            "PLMS Sampler:  11% 11/100 [00:06<00:49,  1.82it/s]\u001b[A\n",
            "PLMS Sampler:  12% 12/100 [00:07<00:48,  1.82it/s]\u001b[A\n",
            "PLMS Sampler:  13% 13/100 [00:07<00:47,  1.82it/s]\u001b[A\n",
            "PLMS Sampler:  14% 14/100 [00:08<00:47,  1.82it/s]\u001b[A\n",
            "PLMS Sampler:  15% 15/100 [00:08<00:46,  1.83it/s]\u001b[A\n",
            "PLMS Sampler:  16% 16/100 [00:09<00:46,  1.82it/s]\u001b[A\n",
            "PLMS Sampler:  17% 17/100 [00:09<00:45,  1.83it/s]\u001b[A\n",
            "PLMS Sampler:  18% 18/100 [00:10<00:44,  1.83it/s]\u001b[A\n",
            "PLMS Sampler:  19% 19/100 [00:10<00:44,  1.83it/s]\u001b[A\n",
            "PLMS Sampler:  20% 20/100 [00:11<00:43,  1.83it/s]\u001b[A\n",
            "PLMS Sampler:  21% 21/100 [00:12<00:43,  1.83it/s]\u001b[A\n",
            "PLMS Sampler:  22% 22/100 [00:12<00:42,  1.83it/s]\u001b[A\n",
            "PLMS Sampler:  23% 23/100 [00:13<00:42,  1.83it/s]\u001b[A\n",
            "PLMS Sampler:  24% 24/100 [00:13<00:41,  1.83it/s]\u001b[A\n",
            "PLMS Sampler:  25% 25/100 [00:14<00:41,  1.83it/s]\u001b[A\n",
            "PLMS Sampler:  26% 26/100 [00:14<00:40,  1.83it/s]\u001b[A\n",
            "PLMS Sampler:  27% 27/100 [00:15<00:39,  1.83it/s]\u001b[A\n",
            "PLMS Sampler:  28% 28/100 [00:15<00:39,  1.83it/s]\u001b[A\n",
            "PLMS Sampler:  29% 29/100 [00:16<00:38,  1.83it/s]\u001b[A\n",
            "PLMS Sampler:  30% 30/100 [00:16<00:38,  1.83it/s]\u001b[A\n",
            "PLMS Sampler:  31% 31/100 [00:17<00:37,  1.83it/s]\u001b[A\n",
            "PLMS Sampler:  32% 32/100 [00:18<00:37,  1.83it/s]\u001b[A\n",
            "PLMS Sampler:  33% 33/100 [00:18<00:36,  1.83it/s]\u001b[A\n",
            "PLMS Sampler:  34% 34/100 [00:19<00:36,  1.83it/s]\u001b[A\n",
            "PLMS Sampler:  35% 35/100 [00:19<00:35,  1.83it/s]\u001b[A\n",
            "PLMS Sampler:  36% 36/100 [00:20<00:34,  1.83it/s]\u001b[A\n",
            "PLMS Sampler:  37% 37/100 [00:20<00:34,  1.83it/s]\u001b[A\n",
            "PLMS Sampler:  38% 38/100 [00:21<00:33,  1.83it/s]\u001b[A\n",
            "PLMS Sampler:  39% 39/100 [00:21<00:33,  1.83it/s]\u001b[A\n",
            "PLMS Sampler:  40% 40/100 [00:22<00:32,  1.83it/s]\u001b[A\n",
            "PLMS Sampler:  41% 41/100 [00:22<00:32,  1.83it/s]\u001b[A\n",
            "PLMS Sampler:  42% 42/100 [00:23<00:31,  1.83it/s]\u001b[A\n",
            "PLMS Sampler:  43% 43/100 [00:24<00:31,  1.83it/s]\u001b[A\n",
            "PLMS Sampler:  44% 44/100 [00:24<00:30,  1.83it/s]\u001b[A\n",
            "PLMS Sampler:  45% 45/100 [00:25<00:30,  1.83it/s]\u001b[A\n",
            "PLMS Sampler:  46% 46/100 [00:25<00:29,  1.83it/s]\u001b[A\n",
            "PLMS Sampler:  47% 47/100 [00:26<00:28,  1.83it/s]\u001b[A\n",
            "PLMS Sampler:  48% 48/100 [00:26<00:28,  1.83it/s]\u001b[A\n",
            "PLMS Sampler:  49% 49/100 [00:27<00:27,  1.83it/s]\u001b[A\n",
            "PLMS Sampler:  50% 50/100 [00:27<00:27,  1.83it/s]\u001b[A\n",
            "PLMS Sampler:  51% 51/100 [00:28<00:26,  1.83it/s]\u001b[A\n",
            "PLMS Sampler:  52% 52/100 [00:28<00:26,  1.83it/s]\u001b[A\n",
            "PLMS Sampler:  53% 53/100 [00:29<00:25,  1.83it/s]\u001b[A\n",
            "PLMS Sampler:  54% 54/100 [00:30<00:25,  1.83it/s]\u001b[A\n",
            "PLMS Sampler:  55% 55/100 [00:30<00:24,  1.83it/s]\u001b[A\n",
            "PLMS Sampler:  56% 56/100 [00:31<00:24,  1.83it/s]\u001b[A\n",
            "PLMS Sampler:  57% 57/100 [00:31<00:23,  1.83it/s]\u001b[A\n",
            "PLMS Sampler:  58% 58/100 [00:32<00:22,  1.83it/s]\u001b[A\n",
            "PLMS Sampler:  59% 59/100 [00:32<00:22,  1.83it/s]\u001b[A\n",
            "PLMS Sampler:  60% 60/100 [00:33<00:21,  1.83it/s]\u001b[A\n",
            "PLMS Sampler:  61% 61/100 [00:33<00:21,  1.83it/s]\u001b[A\n",
            "PLMS Sampler:  62% 62/100 [00:34<00:20,  1.83it/s]\u001b[A\n",
            "PLMS Sampler:  63% 63/100 [00:34<00:20,  1.83it/s]\u001b[A\n",
            "PLMS Sampler:  64% 64/100 [00:35<00:19,  1.83it/s]\u001b[A\n",
            "PLMS Sampler:  65% 65/100 [00:36<00:19,  1.83it/s]\u001b[A\n",
            "PLMS Sampler:  66% 66/100 [00:36<00:18,  1.83it/s]\u001b[A\n",
            "PLMS Sampler:  67% 67/100 [00:37<00:18,  1.83it/s]\u001b[A\n",
            "PLMS Sampler:  68% 68/100 [00:37<00:17,  1.83it/s]\u001b[A\n",
            "PLMS Sampler:  69% 69/100 [00:38<00:16,  1.83it/s]\u001b[A\n",
            "PLMS Sampler:  70% 70/100 [00:38<00:16,  1.83it/s]\u001b[A\n",
            "PLMS Sampler:  71% 71/100 [00:39<00:15,  1.83it/s]\u001b[A\n",
            "PLMS Sampler:  72% 72/100 [00:39<00:15,  1.83it/s]\u001b[A\n",
            "PLMS Sampler:  73% 73/100 [00:40<00:14,  1.83it/s]\u001b[A\n",
            "PLMS Sampler:  74% 74/100 [00:40<00:14,  1.83it/s]\u001b[A\n",
            "PLMS Sampler:  75% 75/100 [00:41<00:13,  1.83it/s]\u001b[A\n",
            "PLMS Sampler:  76% 76/100 [00:42<00:13,  1.83it/s]\u001b[A\n",
            "PLMS Sampler:  77% 77/100 [00:42<00:12,  1.83it/s]\u001b[A\n",
            "PLMS Sampler:  78% 78/100 [00:43<00:12,  1.83it/s]\u001b[A\n",
            "PLMS Sampler:  79% 79/100 [00:43<00:11,  1.83it/s]\u001b[A\n",
            "PLMS Sampler:  80% 80/100 [00:44<00:10,  1.83it/s]\u001b[A\n",
            "PLMS Sampler:  81% 81/100 [00:44<00:10,  1.83it/s]\u001b[A\n",
            "PLMS Sampler:  82% 82/100 [00:45<00:09,  1.83it/s]\u001b[A\n",
            "PLMS Sampler:  83% 83/100 [00:45<00:09,  1.83it/s]\u001b[A\n",
            "PLMS Sampler:  84% 84/100 [00:46<00:08,  1.83it/s]\u001b[A\n",
            "PLMS Sampler:  85% 85/100 [00:47<00:08,  1.83it/s]\u001b[A\n",
            "PLMS Sampler:  86% 86/100 [00:47<00:07,  1.83it/s]\u001b[A\n",
            "PLMS Sampler:  87% 87/100 [00:48<00:07,  1.83it/s]\u001b[A\n",
            "PLMS Sampler:  88% 88/100 [00:48<00:06,  1.83it/s]\u001b[A\n",
            "PLMS Sampler:  89% 89/100 [00:49<00:06,  1.83it/s]\u001b[A\n",
            "PLMS Sampler:  90% 90/100 [00:49<00:05,  1.83it/s]\u001b[A\n",
            "PLMS Sampler:  91% 91/100 [00:50<00:04,  1.83it/s]\u001b[A\n",
            "PLMS Sampler:  92% 92/100 [00:50<00:04,  1.83it/s]\u001b[A\n",
            "PLMS Sampler:  93% 93/100 [00:51<00:03,  1.83it/s]\u001b[A\n",
            "PLMS Sampler:  94% 94/100 [00:51<00:03,  1.83it/s]\u001b[A\n",
            "PLMS Sampler:  95% 95/100 [00:52<00:02,  1.83it/s]\u001b[A\n",
            "PLMS Sampler:  96% 96/100 [00:53<00:02,  1.83it/s]\u001b[A\n",
            "PLMS Sampler:  97% 97/100 [00:53<00:01,  1.83it/s]\u001b[A\n",
            "PLMS Sampler:  98% 98/100 [00:54<00:01,  1.83it/s]\u001b[A\n",
            "PLMS Sampler:  99% 99/100 [00:54<00:00,  1.83it/s]\u001b[A\n",
            "PLMS Sampler: 100% 100/100 [00:55<00:00,  1.81it/s]\n",
            "Test Dataset:  80% 8/10 [07:45<01:55, 57.91s/it]Data shape for PLMS sampling is (4, 4, 64, 64)\n",
            "Running PLMS Sampling with 100 timesteps\n",
            "\n",
            "PLMS Sampler:   0% 0/100 [00:00<?, ?it/s]\u001b[A\n",
            "PLMS Sampler:   1% 1/100 [00:01<01:47,  1.09s/it]\u001b[A\n",
            "PLMS Sampler:   2% 2/100 [00:01<01:14,  1.32it/s]\u001b[A\n",
            "PLMS Sampler:   3% 3/100 [00:02<01:04,  1.49it/s]\u001b[A\n",
            "PLMS Sampler:   4% 4/100 [00:02<00:59,  1.62it/s]\u001b[A\n",
            "PLMS Sampler:   5% 5/100 [00:03<00:56,  1.68it/s]\u001b[A\n",
            "PLMS Sampler:   6% 6/100 [00:03<00:54,  1.74it/s]\u001b[A\n",
            "PLMS Sampler:   7% 7/100 [00:04<00:52,  1.76it/s]\u001b[A\n",
            "PLMS Sampler:   8% 8/100 [00:04<00:51,  1.78it/s]\u001b[A\n",
            "PLMS Sampler:   9% 9/100 [00:05<00:50,  1.80it/s]\u001b[A\n",
            "PLMS Sampler:  10% 10/100 [00:05<00:49,  1.81it/s]\u001b[A\n",
            "PLMS Sampler:  11% 11/100 [00:06<00:48,  1.82it/s]\u001b[A\n",
            "PLMS Sampler:  12% 12/100 [00:07<00:48,  1.82it/s]\u001b[A\n",
            "PLMS Sampler:  13% 13/100 [00:07<00:47,  1.83it/s]\u001b[A\n",
            "PLMS Sampler:  14% 14/100 [00:08<00:47,  1.82it/s]\u001b[A\n",
            "PLMS Sampler:  15% 15/100 [00:08<00:46,  1.83it/s]\u001b[A\n",
            "PLMS Sampler:  16% 16/100 [00:09<00:46,  1.82it/s]\u001b[A\n",
            "PLMS Sampler:  17% 17/100 [00:09<00:45,  1.83it/s]\u001b[A\n",
            "PLMS Sampler:  18% 18/100 [00:10<00:44,  1.83it/s]\u001b[A\n",
            "PLMS Sampler:  19% 19/100 [00:10<00:44,  1.83it/s]\u001b[A\n",
            "PLMS Sampler:  20% 20/100 [00:11<00:43,  1.83it/s]\u001b[A\n",
            "PLMS Sampler:  21% 21/100 [00:12<00:43,  1.83it/s]\u001b[A\n",
            "PLMS Sampler:  22% 22/100 [00:12<00:42,  1.83it/s]\u001b[A\n",
            "PLMS Sampler:  23% 23/100 [00:13<00:42,  1.83it/s]\u001b[A\n",
            "PLMS Sampler:  24% 24/100 [00:13<00:41,  1.83it/s]\u001b[A\n",
            "PLMS Sampler:  25% 25/100 [00:14<00:41,  1.83it/s]\u001b[A\n",
            "PLMS Sampler:  26% 26/100 [00:14<00:40,  1.83it/s]\u001b[A\n",
            "PLMS Sampler:  27% 27/100 [00:15<00:39,  1.83it/s]\u001b[A\n",
            "PLMS Sampler:  28% 28/100 [00:15<00:39,  1.83it/s]\u001b[A\n",
            "PLMS Sampler:  29% 29/100 [00:16<00:38,  1.83it/s]\u001b[A\n",
            "PLMS Sampler:  30% 30/100 [00:16<00:38,  1.83it/s]\u001b[A\n",
            "PLMS Sampler:  31% 31/100 [00:17<00:37,  1.83it/s]\u001b[A\n",
            "PLMS Sampler:  32% 32/100 [00:18<00:37,  1.83it/s]\u001b[A\n",
            "PLMS Sampler:  33% 33/100 [00:18<00:36,  1.83it/s]\u001b[A\n",
            "PLMS Sampler:  34% 34/100 [00:19<00:36,  1.83it/s]\u001b[A\n",
            "PLMS Sampler:  35% 35/100 [00:19<00:35,  1.83it/s]\u001b[A\n",
            "PLMS Sampler:  36% 36/100 [00:20<00:34,  1.83it/s]\u001b[A\n",
            "PLMS Sampler:  37% 37/100 [00:20<00:34,  1.83it/s]\u001b[A\n",
            "PLMS Sampler:  38% 38/100 [00:21<00:33,  1.83it/s]\u001b[A\n",
            "PLMS Sampler:  39% 39/100 [00:21<00:33,  1.83it/s]\u001b[A\n",
            "PLMS Sampler:  40% 40/100 [00:22<00:32,  1.83it/s]\u001b[A\n",
            "PLMS Sampler:  41% 41/100 [00:22<00:32,  1.83it/s]\u001b[A\n",
            "PLMS Sampler:  42% 42/100 [00:23<00:31,  1.83it/s]\u001b[A\n",
            "PLMS Sampler:  43% 43/100 [00:24<00:31,  1.83it/s]\u001b[A\n",
            "PLMS Sampler:  44% 44/100 [00:24<00:30,  1.83it/s]\u001b[A\n",
            "PLMS Sampler:  45% 45/100 [00:25<00:30,  1.83it/s]\u001b[A\n",
            "PLMS Sampler:  46% 46/100 [00:25<00:29,  1.83it/s]\u001b[A\n",
            "PLMS Sampler:  47% 47/100 [00:26<00:28,  1.83it/s]\u001b[A\n",
            "PLMS Sampler:  48% 48/100 [00:26<00:28,  1.83it/s]\u001b[A\n",
            "PLMS Sampler:  49% 49/100 [00:27<00:27,  1.83it/s]\u001b[A\n",
            "PLMS Sampler:  50% 50/100 [00:27<00:27,  1.83it/s]\u001b[A\n",
            "PLMS Sampler:  51% 51/100 [00:28<00:26,  1.83it/s]\u001b[A\n",
            "PLMS Sampler:  52% 52/100 [00:28<00:26,  1.83it/s]\u001b[A\n",
            "PLMS Sampler:  53% 53/100 [00:29<00:25,  1.83it/s]\u001b[A\n",
            "PLMS Sampler:  54% 54/100 [00:30<00:25,  1.83it/s]\u001b[A\n",
            "PLMS Sampler:  55% 55/100 [00:30<00:24,  1.83it/s]\u001b[A\n",
            "PLMS Sampler:  56% 56/100 [00:31<00:24,  1.83it/s]\u001b[A\n",
            "PLMS Sampler:  57% 57/100 [00:31<00:23,  1.83it/s]\u001b[A\n",
            "PLMS Sampler:  58% 58/100 [00:32<00:22,  1.83it/s]\u001b[A\n",
            "PLMS Sampler:  59% 59/100 [00:32<00:22,  1.83it/s]\u001b[A\n",
            "PLMS Sampler:  60% 60/100 [00:33<00:21,  1.83it/s]\u001b[A\n",
            "PLMS Sampler:  61% 61/100 [00:33<00:21,  1.83it/s]\u001b[A\n",
            "PLMS Sampler:  62% 62/100 [00:34<00:20,  1.83it/s]\u001b[A\n",
            "PLMS Sampler:  63% 63/100 [00:34<00:20,  1.83it/s]\u001b[A\n",
            "PLMS Sampler:  64% 64/100 [00:35<00:19,  1.83it/s]\u001b[A\n",
            "PLMS Sampler:  65% 65/100 [00:36<00:19,  1.83it/s]\u001b[A\n",
            "PLMS Sampler:  66% 66/100 [00:36<00:18,  1.83it/s]\u001b[A\n",
            "PLMS Sampler:  67% 67/100 [00:37<00:18,  1.83it/s]\u001b[A\n",
            "PLMS Sampler:  68% 68/100 [00:37<00:17,  1.83it/s]\u001b[A\n",
            "PLMS Sampler:  69% 69/100 [00:38<00:16,  1.83it/s]\u001b[A\n",
            "PLMS Sampler:  70% 70/100 [00:38<00:16,  1.83it/s]\u001b[A\n",
            "PLMS Sampler:  71% 71/100 [00:39<00:15,  1.83it/s]\u001b[A\n",
            "PLMS Sampler:  72% 72/100 [00:39<00:15,  1.83it/s]\u001b[A\n",
            "PLMS Sampler:  73% 73/100 [00:40<00:14,  1.83it/s]\u001b[A\n",
            "PLMS Sampler:  74% 74/100 [00:40<00:14,  1.83it/s]\u001b[A\n",
            "PLMS Sampler:  75% 75/100 [00:41<00:13,  1.83it/s]\u001b[A\n",
            "PLMS Sampler:  76% 76/100 [00:42<00:13,  1.83it/s]\u001b[A\n",
            "PLMS Sampler:  77% 77/100 [00:42<00:12,  1.83it/s]\u001b[A\n",
            "PLMS Sampler:  78% 78/100 [00:43<00:12,  1.83it/s]\u001b[A\n",
            "PLMS Sampler:  79% 79/100 [00:43<00:11,  1.83it/s]\u001b[A\n",
            "PLMS Sampler:  80% 80/100 [00:44<00:10,  1.83it/s]\u001b[A\n",
            "PLMS Sampler:  81% 81/100 [00:44<00:10,  1.82it/s]\u001b[A\n",
            "PLMS Sampler:  82% 82/100 [00:45<00:09,  1.83it/s]\u001b[A\n",
            "PLMS Sampler:  83% 83/100 [00:45<00:09,  1.83it/s]\u001b[A\n",
            "PLMS Sampler:  84% 84/100 [00:46<00:08,  1.83it/s]\u001b[A\n",
            "PLMS Sampler:  85% 85/100 [00:47<00:08,  1.83it/s]\u001b[A\n",
            "PLMS Sampler:  86% 86/100 [00:47<00:07,  1.83it/s]\u001b[A\n",
            "PLMS Sampler:  87% 87/100 [00:48<00:07,  1.83it/s]\u001b[A\n",
            "PLMS Sampler:  88% 88/100 [00:48<00:06,  1.83it/s]\u001b[A\n",
            "PLMS Sampler:  89% 89/100 [00:49<00:06,  1.83it/s]\u001b[A\n",
            "PLMS Sampler:  90% 90/100 [00:49<00:05,  1.82it/s]\u001b[A\n",
            "PLMS Sampler:  91% 91/100 [00:50<00:04,  1.83it/s]\u001b[A\n",
            "PLMS Sampler:  92% 92/100 [00:50<00:04,  1.83it/s]\u001b[A\n",
            "PLMS Sampler:  93% 93/100 [00:51<00:03,  1.83it/s]\u001b[A\n",
            "PLMS Sampler:  94% 94/100 [00:51<00:03,  1.83it/s]\u001b[A\n",
            "PLMS Sampler:  95% 95/100 [00:52<00:02,  1.83it/s]\u001b[A\n",
            "PLMS Sampler:  96% 96/100 [00:53<00:02,  1.83it/s]\u001b[A\n",
            "PLMS Sampler:  97% 97/100 [00:53<00:01,  1.82it/s]\u001b[A\n",
            "PLMS Sampler:  98% 98/100 [00:54<00:01,  1.83it/s]\u001b[A\n",
            "PLMS Sampler:  99% 99/100 [00:54<00:00,  1.82it/s]\u001b[A\n",
            "PLMS Sampler: 100% 100/100 [00:55<00:00,  1.81it/s]\n",
            "Test Dataset:  90% 9/10 [08:43<00:57, 57.87s/it]Warning: Got 2 conditionings but batch-size is 4\n",
            "Data shape for PLMS sampling is (4, 4, 64, 64)\n",
            "Running PLMS Sampling with 100 timesteps\n",
            "\n",
            "PLMS Sampler:   0% 0/100 [00:00<?, ?it/s]\n",
            "Test Dataset:  90% 9/10 [08:44<00:58, 58.26s/it]\n",
            "Traceback (most recent call last):\n",
            "  File \"/content/drive/MyDrive/DCI-VTON-Virtual-Try-On/test.py\", line 370, in <module>\n",
            "    main()\n",
            "  File \"/content/drive/MyDrive/DCI-VTON-Virtual-Try-On/test.py\", line 329, in main\n",
            "    samples_ddim, _ = sampler.sample(S=opt.ddim_steps,\n",
            "  File \"/usr/local/lib/python3.10/dist-packages/torch/utils/_contextlib.py\", line 115, in decorate_context\n",
            "    return func(*args, **kwargs)\n",
            "  File \"/content/drive/MyDrive/DCI-VTON-Virtual-Try-On/ldm/models/diffusion/plms.py\", line 97, in sample\n",
            "    samples, intermediates = self.plms_sampling(conditioning, size,\n",
            "  File \"/usr/local/lib/python3.10/dist-packages/torch/utils/_contextlib.py\", line 115, in decorate_context\n",
            "    return func(*args, **kwargs)\n",
            "  File \"/content/drive/MyDrive/DCI-VTON-Virtual-Try-On/ldm/models/diffusion/plms.py\", line 164, in plms_sampling\n",
            "    outs = self.p_sample_plms(img, cond, ts, index=index, use_original_steps=ddim_use_original_steps,\n",
            "  File \"/usr/local/lib/python3.10/dist-packages/torch/utils/_contextlib.py\", line 115, in decorate_context\n",
            "    return func(*args, **kwargs)\n",
            "  File \"/content/drive/MyDrive/DCI-VTON-Virtual-Try-On/ldm/models/diffusion/plms.py\", line 234, in p_sample_plms\n",
            "    e_t = get_model_output(x_new, t)\n",
            "  File \"/content/drive/MyDrive/DCI-VTON-Virtual-Try-On/ldm/models/diffusion/plms.py\", line 194, in get_model_output\n",
            "    e_t = self.model.apply_model(x, t, c)\n",
            "  File \"/content/drive/MyDrive/DCI-VTON-Virtual-Try-On/ldm/models/diffusion/ddpm.py\", line 1049, in apply_model\n",
            "    x_recon = self.model(x_noisy, t, **cond)\n",
            "  File \"/usr/local/lib/python3.10/dist-packages/torch/nn/modules/module.py\", line 1518, in _wrapped_call_impl\n",
            "    return self._call_impl(*args, **kwargs)\n",
            "  File \"/usr/local/lib/python3.10/dist-packages/torch/nn/modules/module.py\", line 1527, in _call_impl\n",
            "    return forward_call(*args, **kwargs)\n",
            "  File \"/content/drive/MyDrive/DCI-VTON-Virtual-Try-On/ldm/models/diffusion/ddpm.py\", line 1493, in forward\n",
            "    out = self.diffusion_model(x, t, context=cc)\n",
            "  File \"/usr/local/lib/python3.10/dist-packages/torch/nn/modules/module.py\", line 1518, in _wrapped_call_impl\n",
            "    return self._call_impl(*args, **kwargs)\n",
            "  File \"/usr/local/lib/python3.10/dist-packages/torch/nn/modules/module.py\", line 1527, in _call_impl\n",
            "    return forward_call(*args, **kwargs)\n",
            "  File \"/content/drive/MyDrive/DCI-VTON-Virtual-Try-On/ldm/modules/diffusionmodules/openaimodel.py\", line 879, in forward\n",
            "    h = module(h, emb, context)\n",
            "  File \"/usr/local/lib/python3.10/dist-packages/torch/nn/modules/module.py\", line 1518, in _wrapped_call_impl\n",
            "    return self._call_impl(*args, **kwargs)\n",
            "  File \"/usr/local/lib/python3.10/dist-packages/torch/nn/modules/module.py\", line 1527, in _call_impl\n",
            "    return forward_call(*args, **kwargs)\n",
            "  File \"/content/drive/MyDrive/DCI-VTON-Virtual-Try-On/ldm/modules/diffusionmodules/openaimodel.py\", line 83, in forward\n",
            "    x = layer(x, emb)\n",
            "  File \"/usr/local/lib/python3.10/dist-packages/torch/nn/modules/module.py\", line 1518, in _wrapped_call_impl\n",
            "    return self._call_impl(*args, **kwargs)\n",
            "  File \"/usr/local/lib/python3.10/dist-packages/torch/nn/modules/module.py\", line 1527, in _call_impl\n",
            "    return forward_call(*args, **kwargs)\n",
            "  File \"/content/drive/MyDrive/DCI-VTON-Virtual-Try-On/ldm/modules/diffusionmodules/openaimodel.py\", line 250, in forward\n",
            "    return checkpoint(\n",
            "  File \"/content/drive/MyDrive/DCI-VTON-Virtual-Try-On/ldm/modules/diffusionmodules/util.py\", line 114, in checkpoint\n",
            "    return CheckpointFunction.apply(func, len(inputs), *args)\n",
            "  File \"/usr/local/lib/python3.10/dist-packages/torch/autograd/function.py\", line 539, in apply\n",
            "    return super().apply(*args, **kwargs)  # type: ignore[misc]\n",
            "  File \"/content/drive/MyDrive/DCI-VTON-Virtual-Try-On/ldm/modules/diffusionmodules/util.py\", line 127, in forward\n",
            "    output_tensors = ctx.run_function(*ctx.input_tensors)\n",
            "  File \"/content/drive/MyDrive/DCI-VTON-Virtual-Try-On/ldm/modules/diffusionmodules/openaimodel.py\", line 273, in _forward\n",
            "    h = h + emb_out\n",
            "RuntimeError: The size of tensor a (2) must match the size of tensor b (4) at non-singleton dimension 0\n"
          ]
        }
      ]
    },
    {
      "cell_type": "markdown",
      "source": [
        "Image_resizing"
      ],
      "metadata": {
        "id": "UxE_D83DTLSD"
      }
    },
    {
      "cell_type": "code",
      "source": [],
      "metadata": {
        "id": "0L_crJxfTNOl"
      },
      "execution_count": null,
      "outputs": []
    }
  ]
}